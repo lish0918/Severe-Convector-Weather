{
 "cells": [
  {
   "cell_type": "code",
   "execution_count": 1,
   "id": "bd6f5479",
   "metadata": {},
   "outputs": [],
   "source": [
    "import pandas as pd\n",
    "import numpy as np\n",
    "import matplotlib.pyplot as plt\n",
    "from scipy import stats"
   ]
  },
  {
   "cell_type": "code",
   "execution_count": 14,
   "id": "ea7caa60",
   "metadata": {},
   "outputs": [],
   "source": [
    "data=pd.read_excel('ano.xlsx',sheet_name='Sheet2')"
   ]
  },
  {
   "cell_type": "code",
   "execution_count": 15,
   "id": "a52334cb",
   "metadata": {},
   "outputs": [
    {
     "data": {
      "text/html": [
       "<div>\n",
       "<style scoped>\n",
       "    .dataframe tbody tr th:only-of-type {\n",
       "        vertical-align: middle;\n",
       "    }\n",
       "\n",
       "    .dataframe tbody tr th {\n",
       "        vertical-align: top;\n",
       "    }\n",
       "\n",
       "    .dataframe thead th {\n",
       "        text-align: right;\n",
       "    }\n",
       "</style>\n",
       "<table border=\"1\" class=\"dataframe\">\n",
       "  <thead>\n",
       "    <tr style=\"text-align: right;\">\n",
       "      <th></th>\n",
       "      <th>SVW</th>\n",
       "      <th>NW</th>\n",
       "      <th>YN_SC</th>\n",
       "      <th>TOT</th>\n",
       "    </tr>\n",
       "  </thead>\n",
       "  <tbody>\n",
       "    <tr>\n",
       "      <th>0</th>\n",
       "      <td>43.0</td>\n",
       "      <td>31.6</td>\n",
       "      <td>0</td>\n",
       "      <td>31.6</td>\n",
       "    </tr>\n",
       "    <tr>\n",
       "      <th>1</th>\n",
       "      <td>41.3</td>\n",
       "      <td>28.8</td>\n",
       "      <td>0</td>\n",
       "      <td>28.8</td>\n",
       "    </tr>\n",
       "    <tr>\n",
       "      <th>2</th>\n",
       "      <td>44.4</td>\n",
       "      <td>44.8</td>\n",
       "      <td>0</td>\n",
       "      <td>44.8</td>\n",
       "    </tr>\n",
       "    <tr>\n",
       "      <th>3</th>\n",
       "      <td>49.6</td>\n",
       "      <td>37.0</td>\n",
       "      <td>0</td>\n",
       "      <td>37.0</td>\n",
       "    </tr>\n",
       "    <tr>\n",
       "      <th>4</th>\n",
       "      <td>47.2</td>\n",
       "      <td>37.7</td>\n",
       "      <td>0</td>\n",
       "      <td>37.7</td>\n",
       "    </tr>\n",
       "    <tr>\n",
       "      <th>...</th>\n",
       "      <td>...</td>\n",
       "      <td>...</td>\n",
       "      <td>...</td>\n",
       "      <td>...</td>\n",
       "    </tr>\n",
       "    <tr>\n",
       "      <th>371</th>\n",
       "      <td>NaN</td>\n",
       "      <td>NaN</td>\n",
       "      <td>0</td>\n",
       "      <td>32.4</td>\n",
       "    </tr>\n",
       "    <tr>\n",
       "      <th>372</th>\n",
       "      <td>NaN</td>\n",
       "      <td>NaN</td>\n",
       "      <td>0</td>\n",
       "      <td>40.6</td>\n",
       "    </tr>\n",
       "    <tr>\n",
       "      <th>373</th>\n",
       "      <td>NaN</td>\n",
       "      <td>NaN</td>\n",
       "      <td>0</td>\n",
       "      <td>37.3</td>\n",
       "    </tr>\n",
       "    <tr>\n",
       "      <th>374</th>\n",
       "      <td>NaN</td>\n",
       "      <td>NaN</td>\n",
       "      <td>0</td>\n",
       "      <td>41.0</td>\n",
       "    </tr>\n",
       "    <tr>\n",
       "      <th>375</th>\n",
       "      <td>NaN</td>\n",
       "      <td>NaN</td>\n",
       "      <td>0</td>\n",
       "      <td>43.0</td>\n",
       "    </tr>\n",
       "  </tbody>\n",
       "</table>\n",
       "<p>376 rows × 4 columns</p>\n",
       "</div>"
      ],
      "text/plain": [
       "      SVW    NW      YN_SC      TOT  \n",
       "0    43.0  31.6          0       31.6\n",
       "1    41.3  28.8          0       28.8\n",
       "2    44.4  44.8          0       44.8\n",
       "3    49.6  37.0          0       37.0\n",
       "4    47.2  37.7          0       37.7\n",
       "..    ...   ...        ...        ...\n",
       "371   NaN   NaN          0       32.4\n",
       "372   NaN   NaN          0       40.6\n",
       "373   NaN   NaN          0       37.3\n",
       "374   NaN   NaN          0       41.0\n",
       "375   NaN   NaN          0       43.0\n",
       "\n",
       "[376 rows x 4 columns]"
      ]
     },
     "execution_count": 15,
     "metadata": {},
     "output_type": "execute_result"
    }
   ],
   "source": [
    "data"
   ]
  },
  {
   "cell_type": "code",
   "execution_count": 4,
   "id": "6aeea3fc",
   "metadata": {},
   "outputs": [
    {
     "data": {
      "text/plain": [
       "0    52.1\n",
       "1    44.8\n",
       "2    42.8\n",
       "3    46.0\n",
       "4    45.5\n",
       "5    44.4\n",
       "6    46.5\n",
       "7    40.0\n",
       "Name: SVW, dtype: float64"
      ]
     },
     "execution_count": 4,
     "metadata": {},
     "output_type": "execute_result"
    }
   ],
   "source": [
    "data.SVW[:8]"
   ]
  },
  {
   "cell_type": "code",
   "execution_count": 8,
   "id": "ae86049d",
   "metadata": {},
   "outputs": [
    {
     "data": {
      "text/plain": [
       "KstestResult(statistic=0.9646017699115044, pvalue=1.8615514045380795e-118)"
      ]
     },
     "execution_count": 8,
     "metadata": {},
     "output_type": "execute_result"
    }
   ],
   "source": [
    "#两样本K-S检验  非参数检验：总体不符合正态分布\n",
    "stats.ks_2samp(data.SVW[:8],data.NW)"
   ]
  },
  {
   "cell_type": "markdown",
   "id": "d8128d34",
   "metadata": {},
   "source": [
    "↑其中statistic就是D值，pvalue即p值,是用于判断原始假设是否正确的重要证据。\n",
    "\n",
    "这里p值表示如果认为两组样本分布不一致（即拒绝两样品分布相同的零假设）有大约0.11的概率是错的。一般如果它＞0.05，就认为不能认为两组样本分布不一致。也就是认为两组样品分布是一致的。"
   ]
  },
  {
   "cell_type": "code",
   "execution_count": 18,
   "id": "92b7e25c",
   "metadata": {},
   "outputs": [
    {
     "data": {
      "text/plain": [
       "KstestResult(statistic=0.11588020061037874, pvalue=0.9806604026745875)"
      ]
     },
     "execution_count": 18,
     "metadata": {},
     "output_type": "execute_result"
    }
   ],
   "source": [
    "#K-S检验正态分布\n",
    "u=data.SVW.mean()\n",
    "std=data.SVW.std()\n",
    "stats.kstest(data.SVW[:14],'norm',(u,std))"
   ]
  },
  {
   "cell_type": "code",
   "execution_count": 19,
   "id": "425e070b",
   "metadata": {},
   "outputs": [
    {
     "data": {
      "text/plain": [
       "KstestResult(statistic=0.49511852368450593, pvalue=1.80182078315563e-82)"
      ]
     },
     "execution_count": 19,
     "metadata": {},
     "output_type": "execute_result"
    }
   ],
   "source": [
    "#K-S检验正态分布\n",
    "u=data.NW.mean()\n",
    "std=data.NW.std()\n",
    "stats.kstest(data.NW[:362],'norm',(u,std))"
   ]
  },
  {
   "cell_type": "markdown",
   "id": "53f8b65b",
   "metadata": {},
   "source": [
    "↑  P<=0.05时，不服从正态分布；P>0.05时，服从正态分布\n",
    "\n",
    "若服从，采用两独立样本T检验；若不服从正态，采用秩和检验。"
   ]
  },
  {
   "cell_type": "code",
   "execution_count": 9,
   "id": "65ae3da8",
   "metadata": {},
   "outputs": [
    {
     "data": {
      "text/plain": [
       "LeveneResult(statistic=3.2267413579231783, pvalue=0.07374564836407435)"
      ]
     },
     "execution_count": 9,
     "metadata": {},
     "output_type": "execute_result"
    }
   ],
   "source": [
    "#levene方差齐性检验\n",
    "stats.levene(data.SVW[:8],data.NW)"
   ]
  },
  {
   "cell_type": "markdown",
   "id": "5c149b6e",
   "metadata": {},
   "source": [
    "↑P>0.05时，方差齐，适合比较；P<0.05时，不齐，要看T检验的矫正结果。"
   ]
  },
  {
   "cell_type": "code",
   "execution_count": 6,
   "id": "40a5193e",
   "metadata": {},
   "outputs": [
    {
     "data": {
      "text/plain": [
       "Ttest_indResult(statistic=3.528405493180046, pvalue=0.0005039202366495426)"
      ]
     },
     "execution_count": 6,
     "metadata": {},
     "output_type": "execute_result"
    }
   ],
   "source": [
    "#两独立样本t检验\n",
    "stats.ttest_ind(data.SVW[:8],data.NW)"
   ]
  },
  {
   "cell_type": "markdown",
   "id": "676df28f",
   "metadata": {},
   "source": [
    "↑由于方差齐，因此t=3.528，p=0.0005，差异具有统计学意义"
   ]
  },
  {
   "cell_type": "code",
   "execution_count": 13,
   "id": "a234c140",
   "metadata": {},
   "outputs": [
    {
     "data": {
      "text/plain": [
       "RanksumsResult(statistic=4.134634039951191, pvalue=3.555207052232765e-05)"
      ]
     },
     "execution_count": 13,
     "metadata": {},
     "output_type": "execute_result"
    }
   ],
   "source": [
    "#秩和检验 wilcox\n",
    "stats.ranksums(data.SVW[:8],data.NW)"
   ]
  },
  {
   "cell_type": "markdown",
   "id": "53c17abb",
   "metadata": {},
   "source": [
    "↑P>0.05，没有显著性差异"
   ]
  },
  {
   "cell_type": "markdown",
   "id": "a788147f",
   "metadata": {},
   "source": [
    "非参数检验：\n",
    "\n",
    "两独立样本：MannWhitney U检验、K-S检验、W-W游程检验、极端反应检验"
   ]
  },
  {
   "cell_type": "code",
   "execution_count": 48,
   "id": "9a8bd6dd",
   "metadata": {},
   "outputs": [],
   "source": [
    "#连续数据的离散化\n",
    "cats = pd.qcut(X[:,0],4,labels=[1,2,3,4])\n",
    "X_new = np.array(cats)\n",
    "\n",
    "for i in range(1,17):\n",
    "    s = pd.Series(X[:,i])\n",
    "    cats = pd.qcut(s.rank(method='first'),4,labels=[1,2,3,4]) #i=7\\8\\9\n",
    "    cv = np.array(cats)\n",
    "    X_new = np.vstack((X_new,cv)) #数组合并\n",
    "    \n",
    "X_new = X_new.transpose() #矩阵转置"
   ]
  },
  {
   "cell_type": "code",
   "execution_count": 46,
   "id": "56b9150e",
   "metadata": {},
   "outputs": [
    {
     "name": "stdout",
     "output_type": "stream",
     "text": [
      "0.791\n",
      "0.000\n",
      "[[64  0]\n",
      " [ 5  0]]\n"
     ]
    }
   ],
   "source": [
    "seed=random.randint(0,1000)\n",
    "X_train,X_test,y_train,y_test = train_test_split(X_new, Y, test_size=0.2, random_state=seed)"
   ]
  },
  {
   "cell_type": "code",
   "execution_count": 24,
   "id": "1a572139",
   "metadata": {},
   "outputs": [],
   "source": [
    "#标准化\n",
    "from sklearn.preprocessing import  StandardScaler\n",
    "std=StandardScaler()\n",
    "X_new=std.fit_transform(X)"
   ]
  }
 ],
 "metadata": {
  "kernelspec": {
   "display_name": "Python 3",
   "language": "python",
   "name": "python3"
  },
  "language_info": {
   "codemirror_mode": {
    "name": "ipython",
    "version": 3
   },
   "file_extension": ".py",
   "mimetype": "text/x-python",
   "name": "python",
   "nbconvert_exporter": "python",
   "pygments_lexer": "ipython3",
   "version": "3.8.8"
  }
 },
 "nbformat": 4,
 "nbformat_minor": 5
}
