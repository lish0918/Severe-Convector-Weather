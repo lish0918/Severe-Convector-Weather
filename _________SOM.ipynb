{
 "cells": [
  {
   "cell_type": "markdown",
   "id": "41714397",
   "metadata": {},
   "source": [
    "参考：[知乎](https://zhuanlan.zhihu.com/p/73930638?from_voters_page=true)"
   ]
  },
  {
   "cell_type": "code",
   "execution_count": 1,
   "id": "9256a074",
   "metadata": {},
   "outputs": [],
   "source": [
    "import pandas\n",
    "from sklearn import datasets\n",
    "from sklearn.model_selection import train_test_split\n",
    "from sklearn.metrics import classification_report\n",
    "import numpy as np\n",
    "import matplotlib.pyplot as plt\n",
    "from matplotlib.patches import Patch\n",
    "import random"
   ]
  },
  {
   "cell_type": "code",
   "execution_count": 2,
   "id": "5024bb80",
   "metadata": {},
   "outputs": [],
   "source": [
    "dataset=pandas.read_excel('Case.xlsx',sheet_name='initial')\n",
    "\n",
    "data =dataset.values\n",
    "\n",
    "X =data[:,1:18] #不包括18列-维持时间\n",
    "Y =data[:,19]\n",
    "validation_size = 0.2\n",
    "seed = random.randint(0,1000)\n",
    "X_train, X_test,y_train,y_test = train_test_split(X, Y, test_size=validation_size, random_state=seed)"
   ]
  },
  {
   "cell_type": "code",
   "execution_count": 3,
   "id": "9207f50b",
   "metadata": {},
   "outputs": [],
   "source": [
    "from imblearn.over_sampling import SMOTE, ADASYN\n",
    "X_train, y_train = SMOTE().fit_resample(X_train, y_train)"
   ]
  },
  {
   "cell_type": "markdown",
   "id": "274463a4",
   "metadata": {},
   "source": [
    "#安装第三方库\n",
    "import sys\n",
    "!{sys.executable} -m pip install minisom"
   ]
  },
  {
   "cell_type": "code",
   "execution_count": 4,
   "id": "071280ea",
   "metadata": {},
   "outputs": [
    {
     "name": "stdout",
     "output_type": "stream",
     "text": [
      "训练样本个数:3576  测试样本个数:488\n",
      "输出网格最佳边长为: 18\n"
     ]
    }
   ],
   "source": [
    "from minisom import MiniSom\n",
    "import math  #math.ceil()返回数字的上入整数\n",
    "\n",
    "N = X_train.shape[0]  #样本数量\n",
    "M = X_train.shape[1]  #维度/特征数量\n",
    "\n",
    "'''\n",
    "设置超参数\n",
    "'''\n",
    "size = math.ceil(np.sqrt(5 * np.sqrt(N)))  # 经验公式：决定输出层尺寸\n",
    "print(\"训练样本个数:{}  测试样本个数:{}\".format(N,X_test.shape[0]))\n",
    "print(\"输出网格最佳边长为:\",size)\n",
    "\n",
    "max_iter = 200\n",
    "\n",
    "# Initialization and training\n",
    "som = MiniSom(size, size, M, sigma=3, learning_rate=0.5, \n",
    "              neighborhood_function='bubble')"
   ]
  },
  {
   "cell_type": "markdown",
   "id": "7df4237a",
   "metadata": {},
   "source": [
    "neighborhood_function:<p>\n",
    "    'gaussian'<p>\n",
    "    'mexican_hat'<p>\n",
    "    'bubble': 计算速度比高斯快，优胜领域是一圈一圈的，调sigma取值范围缩小很多（只能选离散值），例如sigma=2.5，表示优胜节点及其周围2圈神经元\n",
    "<p>learning_rate：默认0.5，大部分情况都适用"
   ]
  },
  {
   "cell_type": "code",
   "execution_count": 5,
   "id": "013e0eeb",
   "metadata": {},
   "outputs": [],
   "source": [
    "'''\n",
    "初始化权值，有2个API\n",
    "'''\n",
    "#som.random_weights_init(X_train)\n",
    "som.pca_weights_init(X_train)"
   ]
  },
  {
   "cell_type": "markdown",
   "id": "77444a2f",
   "metadata": {},
   "source": [
    "网络训练之前，需要初始化权重；之前的文章提到过，有三种初始化方法，这里却只提供了2个函数。因为创建som实例的时候，就已经默认使用了Random Init(权重初始化为随机数)\n",
    "\n",
    "一般优先考虑pca_weights_init和random_weights_init，其中pca初始化的结果时固定的，也就是说网络初始状态是固定的，而random_weights_init带有一定随机性"
   ]
  },
  {
   "cell_type": "code",
   "execution_count": 6,
   "id": "6b43ca5e",
   "metadata": {},
   "outputs": [],
   "source": [
    "#开始训练\n",
    "som.train_batch(X_train, max_iter, verbose=False)\n",
    "#som.train_random(X_train, max_iter, verbose=False)"
   ]
  },
  {
   "cell_type": "markdown",
   "id": "04bc27b5",
   "metadata": {},
   "source": [
    "train_random 每轮迭代随机挑选一个样本来更新权重，直到迭代次数满足max_iter\n",
    "\n",
    "train_batch 每次按顺序取一个样本，用过最后一个样本后跳回第一个样本，循环直到迭代次数满足max_iter"
   ]
  },
  {
   "cell_type": "code",
   "execution_count": 7,
   "id": "45820063",
   "metadata": {},
   "outputs": [],
   "source": [
    "#分类\n",
    "winmap = som.labels_map(X_train,y_train)"
   ]
  },
  {
   "cell_type": "markdown",
   "id": "7743edea",
   "metadata": {},
   "source": [
    "abels_map利用标签信息，标注训练好的Som网络：\n",
    "\n",
    "Som网络一大特点就是保留输入空间中的拓扑结构，那么输入空间中邻近的样本数据会落到相邻的神经元中。我们计算每一个输入样本对应的优胜节点的位置，即输出平面中哪一个神经元计算完所有的训练样本后，我们统计平面中每个神经元的类别个数(这里就用到了标签信息)，例如 某神经元有5个样本能激活它，其中4个属于A类 1个属于B类.\n",
    "\n",
    "简单的方法，我们可以取频率最高的类别，作为该神经元的类别标签；或许，你也可以用各个类的频率估计概率密度\n",
    "\n",
    "\n",
    "\n",
    "当新的样本(unseen data)落入输出平面的某个神经元时，我们就可以判断样本的类别了！"
   ]
  },
  {
   "cell_type": "code",
   "execution_count": 8,
   "id": "216f497b",
   "metadata": {},
   "outputs": [],
   "source": [
    "#如果miniSom库的som.classify报错，复制源代码修改得：\n",
    "def classify(som,data,winmap):\n",
    "    from numpy import sum as npsum\n",
    "    default_class = npsum(list(winmap.values())).most_common()[0][0]\n",
    "    result = []\n",
    "    for d in data:\n",
    "        win_position = som.winner(d)\n",
    "        if win_position in winmap:\n",
    "            result.append(winmap[win_position].most_common()[0][0])\n",
    "        else:\n",
    "            result.append(default_class)\n",
    "    return result\n",
    "#这个函数传入训练好的模型som，待预测的测试样本data向量(可包含多个样本)，之前标好标签的winmap。"
   ]
  },
  {
   "cell_type": "code",
   "execution_count": 9,
   "id": "dd9c5cc2",
   "metadata": {},
   "outputs": [
    {
     "name": "stdout",
     "output_type": "stream",
     "text": [
      "              precision    recall  f1-score   support\n",
      "\n",
      "         0.0       0.96      0.53      0.68       459\n",
      "         1.0       0.08      0.66      0.14        29\n",
      "\n",
      "    accuracy                           0.54       488\n",
      "   macro avg       0.52      0.59      0.41       488\n",
      "weighted avg       0.91      0.54      0.65       488\n",
      "\n",
      "[[244 215]\n",
      " [ 10  19]]\n",
      "CSI: 0.078\n",
      "HSS: 0.022\n"
     ]
    }
   ],
   "source": [
    "#无监督训练出的模型，在测试集上的效果\n",
    "# 输出混淆矩阵\n",
    "y_pred = classify(som,X_test,winmap)\n",
    "print(classification_report(y_test, np.array(y_pred)))\n",
    "\n",
    "from sklearn.metrics import accuracy_score,f1_score,confusion_matrix,classification_report\n",
    "\n",
    "cm = confusion_matrix(y_test,y_pred)\n",
    "TP=cm[1][1]\n",
    "TN=cm[0][0]\n",
    "FP=cm[0][1]\n",
    "FN=cm[1][0]\n",
    "\n",
    "print(cm)\n",
    "print(\"CSI: {:.3f}\".format(TP/(TP+FP+FN)))\n",
    "print('HSS: {:.3f}'.format((TP*TN-FN*FP)/((TP+FN)*(FN+TN)+(TP+FP)*(FP+TN))))"
   ]
  },
  {
   "cell_type": "code",
   "execution_count": 10,
   "id": "284f083b",
   "metadata": {},
   "outputs": [
    {
     "name": "stdout",
     "output_type": "stream",
     "text": [
      "AUC for eec: 0.593\n"
     ]
    }
   ],
   "source": [
    "from sklearn.metrics import roc_auc_score\n",
    "auc = roc_auc_score(y_test, y_pred)\n",
    "print(\"AUC for eec: {:.3f}\".format(auc))"
   ]
  },
  {
   "cell_type": "markdown",
   "id": "ba22f851",
   "metadata": {},
   "source": [
    "### 可视化 "
   ]
  },
  {
   "cell_type": "markdown",
   "id": "e3421a5d",
   "metadata": {},
   "source": [
    "#### U-Matrix"
   ]
  },
  {
   "cell_type": "markdown",
   "id": "a0281e84",
   "metadata": {},
   "source": [
    "根据权重矩阵W,我们可以计算每个神经元 距离它的邻近神经元们的距离，计算好的矩阵就是U-Matrix"
   ]
  },
  {
   "cell_type": "code",
   "execution_count": 11,
   "id": "17f16833",
   "metadata": {},
   "outputs": [
    {
     "data": {
      "text/plain": [
       "<matplotlib.colorbar.Colorbar at 0x1f079f660a0>"
      ]
     },
     "execution_count": 11,
     "metadata": {},
     "output_type": "execute_result"
    },
    {
     "data": {
      "image/png": "[encoded data removed]",
      "text/plain": [
       "<Figure size 432x288 with 2 Axes>"
      ]
     },
     "metadata": {
      "needs_background": "light"
     },
     "output_type": "display_data"
    }
   ],
   "source": [
    "heatmap = som.distance_map()  #生成U-Matrix\n",
    "plt.imshow(heatmap, cmap='bone_r')      #miniSom案例中用的pcolor函数,需要调整坐标\n",
    "plt.colorbar()"
   ]
  },
  {
   "cell_type": "markdown",
   "id": "2bf89921",
   "metadata": {},
   "source": [
    "在输出层画标签图案\n",
    "\n",
    "希望看一看训练样本分别都落在输出层的哪些格子，并且希望看到他们的标签信息"
   ]
  },
  {
   "cell_type": "code",
   "execution_count": 12,
   "id": "51c7e9dd",
   "metadata": {},
   "outputs": [
    {
     "data": {
      "image/png": "[encoded data removed]",
      "text/plain": [
       "<Figure size 648x648 with 1 Axes>"
      ]
     },
     "metadata": {
      "needs_background": "light"
     },
     "output_type": "display_data"
    }
   ],
   "source": [
    "plt.figure(figsize=(9, 9))\n",
    "# 背景上画U-Matrix\n",
    "heatmap = som.distance_map()\n",
    "plt.pcolor(heatmap, cmap='bone_r')  # plotting the distance map as background\n",
    "\n",
    "# 定义不同标签的图案标记\n",
    "markers = ['o', 's', 'D','x']\n",
    "colors = ['C0', 'C1', 'C2','C3']\n",
    "category_color = {'0': 'C0',\n",
    "                  '1': 'C1',\n",
    "                  '2': 'C2',\n",
    "                 '3':'C3'}\n",
    "for cnt, xx in enumerate(X_train):   #enumerate()枚举函数\n",
    "    w = som.winner(xx)  # getting the winner\n",
    "    # 在样本Heat的地方画上标记\n",
    "    plt.plot(w[0]+0.5, w[1]+0.5, markers[int(y_train[cnt])], markerfacecolor='None',\n",
    "             markeredgecolor=colors[int(y_train[cnt])], markersize=12, markeredgewidth=2)\n",
    "plt.axis([0, size, 0, size])\n",
    "ax = plt.gca()\n",
    "ax.invert_yaxis() #颠倒y轴方向\n",
    "legend_elements = [Patch(facecolor=clr,\n",
    "                         edgecolor='w',\n",
    "                         label=l) for l, clr in category_color.items()]\n",
    "plt.legend(handles=legend_elements, loc='center left', bbox_to_anchor=(1, .95))\n",
    "plt.show()"
   ]
  },
  {
   "cell_type": "markdown",
   "id": "e953619e",
   "metadata": {},
   "source": [
    "问题：\n",
    "\n",
    "不清楚每个格子的样本数量\n",
    "\n",
    "如果有个类别落到同一个格子，看不出比例"
   ]
  },
  {
   "cell_type": "markdown",
   "id": "1055eb70",
   "metadata": {},
   "source": [
    "#### 饼图"
   ]
  },
  {
   "cell_type": "code",
   "execution_count": 13,
   "id": "e5f46826",
   "metadata": {},
   "outputs": [
    {
     "data": {
      "image/png": "[encoded data removed]",
      "text/plain": [
       "<Figure size 648x648 with 60 Axes>"
      ]
     },
     "metadata": {},
     "output_type": "display_data"
    }
   ],
   "source": [
    "label_name_map_number = {\"0\":0,\"1\":1,\"2\":2,\"3\":3}\n",
    "\n",
    "from matplotlib.gridspec import GridSpec\n",
    "\n",
    "plt.figure(figsize=(9, 9))\n",
    "the_grid = GridSpec(size, size)\n",
    "\n",
    "for position in winmap.keys():\n",
    "    label_fracs = [winmap[position][label] for label in [0,1,2,3]]\n",
    "    plt.subplot(the_grid[position[1], position[0]], aspect=1)\n",
    "    patches, texts = plt.pie(label_fracs)\n",
    "    plt.text(position[0]/100, position[1]/100,  str(len(list(winmap[position].elements()))),\n",
    "              color='black', fontdict={'weight': 'bold',  'size': 15},\n",
    "              va='center',ha='center')\n",
    "plt.legend(handles=patches , labels=['0','1','2','3'] , loc='center right', bbox_to_anchor=(-1,9), ncol=3)\n",
    "plt.show()"
   ]
  },
  {
   "cell_type": "markdown",
   "id": "4c548afc",
   "metadata": {},
   "source": [
    "能够清晰的看出，每个位置由多少个样本落在其中，且如果有多个类别时也可以看到他们的比例"
   ]
  },
  {
   "cell_type": "markdown",
   "id": "d64e9321",
   "metadata": {},
   "source": [
    "#### Component Plane"
   ]
  },
  {
   "cell_type": "code",
   "execution_count": 14,
   "id": "f0b5d08f",
   "metadata": {},
   "outputs": [
    {
     "ename": "NameError",
     "evalue": "name 'feature_names' is not defined",
     "output_type": "error",
     "traceback": [
      "\u001b[1;31m---------------------------------------------------------------------------\u001b[0m",
      "\u001b[1;31mNameError\u001b[0m                                 Traceback (most recent call last)",
      "\u001b[1;32m<ipython-input-14-60800fdff272>\u001b[0m in \u001b[0;36m<module>\u001b[1;34m\u001b[0m\n\u001b[0;32m      2\u001b[0m \u001b[0mplt\u001b[0m\u001b[1;33m.\u001b[0m\u001b[0mfigure\u001b[0m\u001b[1;33m(\u001b[0m\u001b[0mfigsize\u001b[0m\u001b[1;33m=\u001b[0m\u001b[1;33m(\u001b[0m\u001b[1;36m10\u001b[0m\u001b[1;33m,\u001b[0m \u001b[1;36m10\u001b[0m\u001b[1;33m)\u001b[0m\u001b[1;33m)\u001b[0m\u001b[1;33m\u001b[0m\u001b[1;33m\u001b[0m\u001b[0m\n\u001b[0;32m      3\u001b[0m \u001b[0mW\u001b[0m\u001b[1;33m=\u001b[0m\u001b[0msom\u001b[0m\u001b[1;33m.\u001b[0m\u001b[0mget_weights\u001b[0m\u001b[1;33m(\u001b[0m\u001b[1;33m)\u001b[0m \u001b[1;31m#Weight权值矩阵，是一个维度为(size X size X 特指数)的矩阵\u001b[0m\u001b[1;33m\u001b[0m\u001b[1;33m\u001b[0m\u001b[0m\n\u001b[1;32m----> 4\u001b[1;33m \u001b[1;32mfor\u001b[0m \u001b[0mi\u001b[0m\u001b[1;33m,\u001b[0m \u001b[0mf\u001b[0m \u001b[1;32min\u001b[0m \u001b[0menumerate\u001b[0m\u001b[1;33m(\u001b[0m\u001b[0mfeature_names\u001b[0m\u001b[1;33m)\u001b[0m\u001b[1;33m:\u001b[0m\u001b[1;33m\u001b[0m\u001b[1;33m\u001b[0m\u001b[0m\n\u001b[0m\u001b[0;32m      5\u001b[0m     \u001b[0mplt\u001b[0m\u001b[1;33m.\u001b[0m\u001b[0msubplot\u001b[0m\u001b[1;33m(\u001b[0m\u001b[1;36m3\u001b[0m\u001b[1;33m,\u001b[0m \u001b[1;36m3\u001b[0m\u001b[1;33m,\u001b[0m \u001b[0mi\u001b[0m\u001b[1;33m+\u001b[0m\u001b[1;36m1\u001b[0m\u001b[1;33m)\u001b[0m\u001b[1;33m\u001b[0m\u001b[1;33m\u001b[0m\u001b[0m\n\u001b[0;32m      6\u001b[0m     \u001b[0mplt\u001b[0m\u001b[1;33m.\u001b[0m\u001b[0mtitle\u001b[0m\u001b[1;33m(\u001b[0m\u001b[0mf\u001b[0m\u001b[1;33m)\u001b[0m\u001b[1;33m\u001b[0m\u001b[1;33m\u001b[0m\u001b[0m\n",
      "\u001b[1;31mNameError\u001b[0m: name 'feature_names' is not defined"
     ]
    },
    {
     "data": {
      "text/plain": [
       "<Figure size 720x720 with 0 Axes>"
      ]
     },
     "metadata": {},
     "output_type": "display_data"
    }
   ],
   "source": [
    "#Component Plane每个神经元对单个特征什么取值最敏感\n",
    "plt.figure(figsize=(10, 10))\n",
    "W=som.get_weights() #Weight权值矩阵，是一个维度为(size X size X 特指数)的矩阵\n",
    "for i, f in enumerate(feature_names):\n",
    "    plt.subplot(3, 3, i+1)\n",
    "    plt.title(f)\n",
    "    plt.imshow(W[:,:,i], cmap='coolwarm')\n",
    "    #W[:,:,i]取出特征i对应的权值矩阵\n",
    "    #这个取值就表示每个位置的神经元对什么取值最敏感(或者理解为与该特征取值最匹配\n",
    "    plt.colorbar()\n",
    "    plt.xticks(np.arange(size+1))\n",
    "    plt.yticks(np.arange(size+1))\n",
    "#plt.tight_layout()\n",
    "plt.show()"
   ]
  }
 ],
 "metadata": {
  "kernelspec": {
   "display_name": "Python 3",
   "language": "python",
   "name": "python3"
  },
  "language_info": {
   "codemirror_mode": {
    "name": "ipython",
    "version": 3
   },
   "file_extension": ".py",
   "mimetype": "text/x-python",
   "name": "python",
   "nbconvert_exporter": "python",
   "pygments_lexer": "ipython3",
   "version": "3.8.8"
  }
 },
 "nbformat": 4,
 "nbformat_minor": 5
}
