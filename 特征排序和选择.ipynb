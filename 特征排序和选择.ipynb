{
 "cells": [
  {
   "cell_type": "code",
   "execution_count": 1,
   "id": "bd6f5479",
   "metadata": {},
   "outputs": [],
   "source": [
    "import pandas as pd\n",
    "import numpy as np\n",
    "from pandas.plotting import scatter_matrix\n",
    "import matplotlib.pyplot as plt\n",
    "from sklearn import model_selection\n",
    "from sklearn.metrics import classification_report\n",
    "from sklearn.metrics import confusion_matrix\n",
    "from sklearn.metrics import accuracy_score\n",
    "from sklearn.model_selection import train_test_split\n",
    "import random\n",
    "from sklearn.datasets import make_friedman1\n",
    "from sklearn.feature_selection import RFECV"
   ]
  },
  {
   "cell_type": "code",
   "execution_count": 2,
   "id": "ea7caa60",
   "metadata": {},
   "outputs": [],
   "source": [
    "dataset=pd.read_excel('Case.xlsx',sheet_name='initial')"
   ]
  },
  {
   "cell_type": "code",
   "execution_count": 50,
   "id": "5451d2e7",
   "metadata": {},
   "outputs": [],
   "source": [
    "data=dataset.values\n",
    "\n",
    "array=[]\n",
    "for i in data:\n",
    "    if i[0]==9:\n",
    "        array.append(list(i))\n",
    "    data=np.array(array)\n",
    "\n",
    "X =data[:,1:18]  #1:18 8:10\n",
    "Y =data[:,19]  #19 20\n",
    "seed=random.randint(0,1000)\n",
    "X_train,X_test,y_train,y_test = train_test_split(X, Y, test_size=0.25, random_state=seed)"
   ]
  },
  {
   "cell_type": "markdown",
   "id": "7faf21f0",
   "metadata": {},
   "source": [
    "========================================"
   ]
  },
  {
   "cell_type": "code",
   "execution_count": 51,
   "id": "f42dfd40",
   "metadata": {},
   "outputs": [
    {
     "name": "stdout",
     "output_type": "stream",
     "text": [
      "The important level of SI:      0.11023185216983811\n",
      "The important level of KI:      0.11000711862669149\n",
      "The important level of LIFT:      0.08832323455637532\n",
      "The important level of TOT:      0.08252358120163242\n",
      "The important level of CROSS:      0.07017139211404469\n",
      "The important level of SWEAT:      0.0682129550655171\n",
      "The important level of CAPE:      0.06439145811611231\n",
      "The important level of VERT:      0.060527564975613665\n",
      "The important level of LCLP:      0.04870976966810702\n",
      "The important level of MRMML:      0.04296214402625193\n",
      "The important level of Thick:      0.04216446911018686\n",
      "The important level of CI:      0.041184660163827755\n",
      "The important level of PW:      0.040302414676636866\n",
      "The important level of PTMML:      0.038899738514035574\n",
      "The important level of BRi:      0.038475127008715075\n",
      "The important level of LCLT:      0.03236028862418813\n",
      "The important level of VWS:      0.020552231382225623\n"
     ]
    }
   ],
   "source": [
    "from sklearn.ensemble import RandomForestClassifier\n",
    "RFC = RandomForestClassifier(n_estimators=15000,n_jobs= -1 ,random_state=0)\n",
    "#oob_score=True 袋外数据，否则基尼系数\n",
    "RFC.fit(X,Y)\n",
    "#构造随机森林，拟合数据。\n",
    "import_level = RFC.feature_importances_ #这个方法可以调取关于特征重要程度\n",
    "x_columns = ['SI','LIFT','SWEAT','KI','CROSS','VERT','TOT','CAPE',\n",
    "            'CI','BRi','LCLT','LCLP','PTMML','MRMML','PW','Thick','VWS']\n",
    "index = np.argsort(import_level)[::-1]\n",
    "for each in range(X.shape[1]):\n",
    "    print('The important level of '+ x_columns[index[each]]+ ':      '+ str(import_level[index[each]]))\n",
    "#对于最后需要逆序，个人的理解是做了类似决策树回溯的取值。从叶子收敛到根，根部重要程度高于叶子。"
   ]
  },
  {
   "cell_type": "code",
   "execution_count": 52,
   "id": "69d5e125",
   "metadata": {
    "scrolled": true
   },
   "outputs": [
    {
     "data": {
      "text/plain": [
       "([<matplotlib.axis.XTick at 0x1fa5bed2f10>,\n",
       "  <matplotlib.axis.XTick at 0x1fa5bed29a0>,\n",
       "  <matplotlib.axis.XTick at 0x1fa5bef0040>,\n",
       "  <matplotlib.axis.XTick at 0x1fa7133ed60>,\n",
       "  <matplotlib.axis.XTick at 0x1fa790232b0>,\n",
       "  <matplotlib.axis.XTick at 0x1fa790237c0>,\n",
       "  <matplotlib.axis.XTick at 0x1fa79023cd0>,\n",
       "  <matplotlib.axis.XTick at 0x1fa79027220>,\n",
       "  <matplotlib.axis.XTick at 0x1fa79027730>,\n",
       "  <matplotlib.axis.XTick at 0x1fa79027c40>,\n",
       "  <matplotlib.axis.XTick at 0x1fa79030190>,\n",
       "  <matplotlib.axis.XTick at 0x1fa790277c0>,\n",
       "  <matplotlib.axis.XTick at 0x1fa79023850>,\n",
       "  <matplotlib.axis.XTick at 0x1fa79030310>,\n",
       "  <matplotlib.axis.XTick at 0x1fa79030970>,\n",
       "  <matplotlib.axis.XTick at 0x1fa79030e80>,\n",
       "  <matplotlib.axis.XTick at 0x1fa7903a3d0>],\n",
       " [Text(0, 0, 'SI'),\n",
       "  Text(1, 0, 'KI'),\n",
       "  Text(2, 0, 'LIFT'),\n",
       "  Text(3, 0, 'TOT'),\n",
       "  Text(4, 0, 'CROSS'),\n",
       "  Text(5, 0, 'SWEAT'),\n",
       "  Text(6, 0, 'CAPE'),\n",
       "  Text(7, 0, 'VERT'),\n",
       "  Text(8, 0, 'LCLP'),\n",
       "  Text(9, 0, 'MRMML'),\n",
       "  Text(10, 0, 'Thick'),\n",
       "  Text(11, 0, 'CI'),\n",
       "  Text(12, 0, 'PW'),\n",
       "  Text(13, 0, 'PTMML'),\n",
       "  Text(14, 0, 'BRi'),\n",
       "  Text(15, 0, 'LCLT'),\n",
       "  Text(16, 0, 'VWS')])"
      ]
     },
     "execution_count": 52,
     "metadata": {},
     "output_type": "execute_result"
    },
    {
     "data": {
      "image/png": "[encoded data removed]",
      "text/plain": [
       "<Figure size 720x432 with 1 Axes>"
      ]
     },
     "metadata": {
      "needs_background": "light"
     },
     "output_type": "display_data"
    }
   ],
   "source": [
    "#最后在可视化以下图\n",
    "plt.figure(figsize=(10,6))\n",
    "plt.title('Classification 9',fontsize = 18)\n",
    "plt.ylabel('Import Level',fontsize = 15,rotation = 90)\n",
    "\n",
    "labels = [x_columns[i] for i in index]\n",
    "\n",
    "plt.bar(range(0,17),import_level[index],color = 'darksalmon',align = 'center')\n",
    "#水平分割线\n",
    "plt.hlines(0.04,-0.5,16.5,'k', linestyles='--')\n",
    "plt.xticks(range(0,17),labels,rotation = 45,fontsize = 13)"
   ]
  },
  {
   "cell_type": "markdown",
   "id": "70fb3747",
   "metadata": {},
   "source": [
    "================================================="
   ]
  },
  {
   "cell_type": "markdown",
   "id": "f5166e62",
   "metadata": {},
   "source": [
    "特征选择就是从原始特征中选取一些最有效的特征来降低维度,，提高模型泛化能力减低过拟合的过程，主要目的是剔除掉无关特征和冗余特征，选出最优特征子集；\n",
    "\n",
    "常见的特征选择方法可以分为3类：过滤式（filter）、包裹式（wrapper）、嵌入式（embedding）。"
   ]
  },
  {
   "cell_type": "markdown",
   "id": "992aca1f",
   "metadata": {},
   "source": [
    "# 1.过滤式filter"
   ]
  },
  {
   "cell_type": "markdown",
   "id": "7a9565d1",
   "metadata": {},
   "source": [
    "通过方差选择法、相关系数法、卡方检验法、互信息法来对特征进行评分，设定阈值或者待选择的阈值的个数来选择；"
   ]
  },
  {
   "cell_type": "markdown",
   "id": "ac01d19f",
   "metadata": {},
   "source": [
    "### 1.1方差选择法"
   ]
  },
  {
   "cell_type": "markdown",
   "id": "45031355",
   "metadata": {},
   "source": [
    "计算各个特征的方差，剔除小于设定的阈值的特征，剔除特征值 波动较小的特征，例如一个特征的所有值都为1，那这个特征对于预测目标变量就没什么作用；方法很简单，但实际应用中只有少数变量才会存在只取某个值的情况，对特征选择作用比较小，可以当做数据预处理部分，之后再用其他方法进行特征选择。"
   ]
  },
  {
   "cell_type": "markdown",
   "id": "7b78ae60",
   "metadata": {},
   "source": [
    "### 1.2  单变量特征选择"
   ]
  },
  {
   "cell_type": "markdown",
   "id": "0866f22c",
   "metadata": {},
   "source": [
    "**1.2.1相关系数法**\n",
    "\n",
    "皮尔森相关系数衡量的是变量之间的线性相关性，取值范围在-1-+1之间，-1表示完全负相关，+1表示完全正相关，0表示线性无关；可以使用scipy的pearsonr 计算皮尔森相关系数，且它还可以同时计算出p值\n",
    "\n",
    "但是皮尔森相关系数只衡量线性关系，即使两个变量之间有较强的非线性关系，皮尔森系数也有可能接近为0；\n",
    "\n",
    "**1.2.2.卡方检验法**\n",
    "\n",
    "检验定性自变量对定性因变量的相关性\n",
    "\n",
    "**1.2.3 互信息法和最大信息系数**\n",
    "\n",
    "互信息法并不方便直接用于特征选择，一是因为它不属于度量方式，也没有办法进行归一化，在不同的数据上的结果无法做比较；二是因为对于连续变量的计算不是很方便，通常需要将变量离散化，而互信息的结果对离散化的方法很敏感；\n",
    "\n",
    "因此引入了最大信息系数 。最大信息系数首先寻找一种最优的离散方式，然后把互信息取值转换成一种度量方式，取值区间在[0,1]，minepy模块提供了MIC（最大信息系数）方法\n",
    "\n",
    "**1.2.4 距离相关系数法**\n",
    "\n",
    "距离相关系数是为了克服皮尔森相关系数只能衡量线性关系的弱点而生的。x和x^2的皮尔森相关系数可能接近于0，但是这两个变量并不是独立不相关的。使用距离相关系数就可以计算x和x^2的非线性关系，如果距离相关系数接近于0，就可以说两个变量之间是独立的。R语言的energy包提供了距离相关系数的函数，Python没有直接计算的包"
   ]
  },
  {
   "cell_type": "markdown",
   "id": "22ad8446",
   "metadata": {},
   "source": [
    "# 2.包裹式Wrapper"
   ]
  },
  {
   "cell_type": "markdown",
   "id": "0abfe6d0",
   "metadata": {},
   "source": [
    "根据预测效果(AUC/MSE)或者其他方法对特征组合进行评分，主要方法有递归特征消除法；\n",
    "\n",
    "递归特征消除法的主要思想是反复的构建模型，然后选出最好或最坏的特征，把选出的特征放到一边，然后在剩余的特征上重复这个过程，直到所有特征都遍历了。在这个过程中特征被消除的次序就是特征的排序。"
   ]
  },
  {
   "cell_type": "markdown",
   "id": "ad7f23b3",
   "metadata": {},
   "source": [
    "# 3.嵌入式Embedded"
   ]
  },
  {
   "cell_type": "markdown",
   "id": "6b130fd4",
   "metadata": {},
   "source": [
    "### 3.1正则化"
   ]
  },
  {
   "cell_type": "markdown",
   "id": "a4ce1811",
   "metadata": {},
   "source": [
    "正则化主要包括L1正则化和L2正则化：\n",
    "\n",
    "L1正则化将系数W的L1范数作为惩罚项加到损失函数中，L1正则方法具有稀疏解的特性，因此天然具有特征选择的特性，但是不代表没被选到的特征就不重要，有可能是因为两个高度相关的特征最后只保留了一个；另外L1正则化和非正则化模型一样是不稳定的，如果特征集合中具有相关联的特征，当数据发生细微变化时也有可能导致很大的模型差异。\n",
    "\n",
    "L2正则化将系数向量的L2范数添加到损失函数中，由于L2惩罚项中的系数是二次方的，会让系数的取值变得平均，对于有相关性的变量，会得到相近的系数；L2正则化也较L1稳定；"
   ]
  },
  {
   "cell_type": "markdown",
   "id": "98d42f2e",
   "metadata": {},
   "source": [
    "### 3.2树模型"
   ]
  },
  {
   "cell_type": "markdown",
   "id": "89159426",
   "metadata": {},
   "source": [
    "可以利用随机森林或者GBDT模型进行特征选择"
   ]
  },
  {
   "cell_type": "markdown",
   "id": "dbc4eb19",
   "metadata": {},
   "source": [
    "================================================="
   ]
  },
  {
   "cell_type": "code",
   "execution_count": 4,
   "id": "f8ea767c",
   "metadata": {},
   "outputs": [],
   "source": [
    "#from imblearn.under_sampling import CondensedNearestNeighbour\n",
    "#cnn = CondensedNearestNeighbour(random_state=0)\n",
    "#X_resampled, y_resampled = cnn.fit_resample(X_train, y_train)"
   ]
  },
  {
   "cell_type": "code",
   "execution_count": 5,
   "id": "cd87a349",
   "metadata": {},
   "outputs": [],
   "source": [
    "#from sklearn.ensemble import RandomForestClassifier\n",
    "#print(X_resampled.shape)\n",
    "#seed_1=random.randint(1,1000)\n",
    "#estimator = RandomForestClassifier(n_estimators=161,\n",
    "#                                     max_depth=49,\n",
    "#                                     max_features=\"sqrt\",\n",
    "#                                     random_state=seed_1)\n",
    "#selector = RFECV(estimator, step=1, cv=5)\n",
    "#selector = selector.fit(X_resampled, y_resampled)\n",
    "#print(selector.support_)\n",
    "#support_:筛选特征的布尔编码\n",
    "#print(selector.ranking_)\n",
    "#ranking_:对特征的重要性排序,最重要的序号为1 "
   ]
  },
  {
   "cell_type": "code",
   "execution_count": 6,
   "id": "01c85aba",
   "metadata": {
    "scrolled": true
   },
   "outputs": [
    {
     "name": "stdout",
     "output_type": "stream",
     "text": [
      "   Selected_columns  Score_ANOVA\n",
      "7              CAPE    29.587051\n",
      "15       Thick_era5     2.053396\n",
      "9               BRi     1.735836\n",
      "2             SWEAT     1.240619\n",
      "8                CI     0.674280\n",
      "11             LCLP     0.637336\n",
      "3                KI     0.519518\n",
      "16              VWS     0.481765\n",
      "14               PW     0.460878\n",
      "6               TOT     0.401161\n",
      "10             LCLT     0.332333\n",
      "4             CROSS     0.327922\n",
      "13            MRMML     0.323734\n",
      "5              VERT     0.320681\n",
      "12            PTMML     0.299232\n",
      "1              LIFT     0.173278\n",
      "0                SI     0.170952\n"
     ]
    }
   ],
   "source": [
    "from sklearn.feature_selection import SelectKBest\n",
    "from sklearn.feature_selection import f_classif\n",
    "\n",
    "col_list = ['SI','LIFT','SWEAT','KI','CROSS','VERT','TOT','CAPE',\n",
    "            'CI','BRi','LCLT','LCLP','PTMML','MRMML','PW','Thick_era5','VWS']\n",
    "#create a dataframe table\n",
    "df = pd.DataFrame(X, columns=col_list)\n",
    "\n",
    "#feature selection using f检验\n",
    "fs = SelectKBest(score_func=f_classif, k=5)\n",
    "fit = fs.fit(X_train,y_train)\n",
    "\n",
    "#create df for scores\n",
    "dfscores = pd.DataFrame(fit.scores_)\n",
    "#create df for column names\n",
    "dfcolumns = pd.DataFrame(df.columns)\n",
    "#concat two dataframes for better visualization \n",
    "featureScores = pd.concat([dfcolumns,dfscores],axis=1)\n",
    "#naming the dataframe columns\n",
    "featureScores.columns = ['Selected_columns','Score_ANOVA'] \n",
    "\n",
    "#print 10 best features\n",
    "print(featureScores.nlargest(17,'Score_ANOVA'))\n"
   ]
  },
  {
   "cell_type": "code",
   "execution_count": 7,
   "id": "bf1e8c02",
   "metadata": {},
   "outputs": [
    {
     "name": "stdout",
     "output_type": "stream",
     "text": [
      "SI\n",
      "LIFT\n",
      "SWEAT\n",
      "KI\n",
      "CROSS\n",
      "VERT\n",
      "TOT\n",
      "CAPE\n",
      "CI\n",
      "BRi\n",
      "LCLT\n",
      "LCLP\n",
      "PTMML\n",
      "MRMML\n",
      "PW\n",
      "Thick_era5\n",
      "VWS\n",
      "0.17095222700518287\n",
      "0.1732781707292667\n",
      "1.2406187867691005\n",
      "0.5195177050904455\n",
      "0.3279215038686896\n",
      "0.3206806856711054\n",
      "0.40116063732182333\n",
      "29.58705133436812\n",
      "0.6742797037471123\n",
      "1.735835985993746\n",
      "0.3323327086757258\n",
      "0.6373361019384439\n",
      "0.299232059458412\n",
      "0.3237335881240587\n",
      "0.4608784835651524\n",
      "2.05339618866211\n",
      "0.48176499127147493\n"
     ]
    }
   ],
   "source": [
    "for column in featureScores:\n",
    "    for m in featureScores[column].values:\n",
    "        print(m)"
   ]
  },
  {
   "cell_type": "code",
   "execution_count": null,
   "id": "c69bea55",
   "metadata": {},
   "outputs": [],
   "source": []
  }
 ],
 "metadata": {
  "kernelspec": {
   "display_name": "Python 3",
   "language": "python",
   "name": "python3"
  },
  "language_info": {
   "codemirror_mode": {
    "name": "ipython",
    "version": 3
   },
   "file_extension": ".py",
   "mimetype": "text/x-python",
   "name": "python",
   "nbconvert_exporter": "python",
   "pygments_lexer": "ipython3",
   "version": "3.8.8"
  }
 },
 "nbformat": 4,
 "nbformat_minor": 5
}
