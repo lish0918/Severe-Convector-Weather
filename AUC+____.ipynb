{
 "cells": [
  {
   "cell_type": "markdown",
   "id": "dda6b6a2",
   "metadata": {},
   "source": [
    "AUC ROC只适合二分类"
   ]
  },
  {
   "cell_type": "markdown",
   "id": "a1abb19e",
   "metadata": {},
   "source": [
    "参数为CAPE和CI时：\n",
    "\n",
    "AUC for LR: 0.660；AUC for RF: 0.628\n",
    "\n",
    "AUC for SVM: 0.585；AUC for LDA: 0.660\n",
    "\n",
    "AUC for KNN: 0.418；AUC for CART: 0.386\n",
    "\n",
    "AUC for GBDT: 0.664；AUC for NB: 0.673"
   ]
  },
  {
   "cell_type": "markdown",
   "id": "e733e91f",
   "metadata": {},
   "source": [
    "原始参数：\n",
    "\n",
    "AUC for LR: 0.798；AUC for RF: 0.739\n",
    "\n",
    "AUC for SVM: 0.672；AUC for LDA: 0.785\n",
    "\n",
    "AUC for KNN: 0.606；AUC for CART: 0.526\n",
    "\n",
    "AUC for GBDT: 0.759；AUC for NB: 0.640"
   ]
  },
  {
   "cell_type": "code",
   "execution_count": 1,
   "id": "54c72b82",
   "metadata": {},
   "outputs": [],
   "source": [
    "import pandas\n",
    "import numpy as np\n",
    "from pandas.plotting import scatter_matrix\n",
    "import matplotlib.pyplot as plt\n",
    "from sklearn import model_selection\n",
    "from sklearn.metrics import classification_report\n",
    "from sklearn.metrics import confusion_matrix\n",
    "from sklearn.metrics import accuracy_score\n",
    "\n",
    "from sklearn.discriminant_analysis import LinearDiscriminantAnalysis #线性判别分析#\n",
    "from sklearn.naive_bayes import GaussianNB #朴素贝叶斯分类器#\n",
    "from sklearn.svm import SVC #支持向量机#\n",
    "from sklearn.linear_model import LogisticRegression #逻辑回归#\n",
    "from sklearn.neighbors import KNeighborsClassifier #K临近#\n",
    "from sklearn.tree import DecisionTreeClassifier #决策树分类器CART#\n",
    "from sklearn.cluster import KMeans #kmeans聚类#\n",
    "from sklearn.ensemble import RandomForestClassifier #随机森林#\n",
    "from sklearn.ensemble import GradientBoostingClassifier #梯度提升决策树(GBDT)#"
   ]
  },
  {
   "cell_type": "code",
   "execution_count": 2,
   "id": "1ccc2e2c",
   "metadata": {},
   "outputs": [
    {
     "name": "stdout",
     "output_type": "stream",
     "text": [
      "(2440, 21)\n"
     ]
    }
   ],
   "source": [
    "dataset=pandas.read_excel('Case.xlsx',sheet_name='initial')\n",
    "print(dataset.shape)"
   ]
  },
  {
   "cell_type": "code",
   "execution_count": 4,
   "id": "7e73b508",
   "metadata": {},
   "outputs": [
    {
     "name": "stdout",
     "output_type": "stream",
     "text": [
      "        Type      SI         LIFT       SWEAT      KI         CROSS  \\\n",
      "0          1       1.70       2.39     208.62       34.1       20.6   \n",
      "1          1       4.31       4.75     208.73       31.0       18.4   \n",
      "2          1       7.03       7.11     182.79       27.2       16.6   \n",
      "3          1      -1.27      -4.95     243.20       37.7       20.5   \n",
      "4          1       0.32      -1.74     245.71       26.1       19.5   \n",
      "\n",
      "       VERT       TOT       CAPE      CI     ...      LCLT       LCLP   \\\n",
      "0       21.5       42.1     0.72      -0.21  ...     291.18     960.89   \n",
      "1       19.3       37.7     0.00       0.00  ...     290.57     960.00   \n",
      "2       17.7       34.3     0.00       0.00  ...     288.78     953.60   \n",
      "3       23.5       44.0  2467.30     -10.40  ...     297.61     931.15   \n",
      "4       21.7       41.2   397.79      -0.63  ...     295.96     936.68   \n",
      "\n",
      "       PTMML      MRMML      PW     Thick_era5        VWS  MaintainH  \\\n",
      "0     294.55      13.77      48.28    5730.279         27          0   \n",
      "1     294.01      13.23      52.25    5730.584         33          0   \n",
      "2     292.76      11.87      37.24    5689.171         39          0   \n",
      "3     303.77      21.29      70.63    5822.933          8          0   \n",
      "4     301.57      19.10      56.85    5810.240          6          0   \n",
      "\n",
      "       YN_SC     YN3_SC  \n",
      "0          0          0  \n",
      "1          0          0  \n",
      "2          0          0  \n",
      "3          0          0  \n",
      "4          0          0  \n",
      "\n",
      "[5 rows x 21 columns]\n"
     ]
    }
   ],
   "source": [
    "print(dataset.head())"
   ]
  },
  {
   "cell_type": "code",
   "execution_count": 3,
   "id": "2708d4a9",
   "metadata": {},
   "outputs": [],
   "source": [
    "array =dataset.values\n",
    "X =array[:,1:18]\n",
    "Y =array[:,19]\n",
    "validation_size = 0.20\n",
    "seed =7\n",
    "X_train, X_test, y_train,y_test = model_selection.train_test_split(X, Y, test_size=validation_size, random_state=seed)"
   ]
  },
  {
   "cell_type": "code",
   "execution_count": 4,
   "id": "a8bb5c0c",
   "metadata": {},
   "outputs": [
    {
     "data": {
      "text/plain": [
       "GaussianNB()"
      ]
     },
     "execution_count": 4,
     "metadata": {},
     "output_type": "execute_result"
    }
   ],
   "source": [
    "LR = LogisticRegression(max_iter=10000)\n",
    "RF=RandomForestClassifier()\n",
    "SVM=SVC()\n",
    "LDA=LinearDiscriminantAnalysis()\n",
    "KNN=KNeighborsClassifier()\n",
    "CART=DecisionTreeClassifier()\n",
    "GBDT=GradientBoostingClassifier(n_estimators=100,learning_rate=0.1,max_depth=1,random_state=0)\n",
    "NB=GaussianNB()\n",
    "#kmeans=KMeans(n_clusters=3,random_state=0)\n",
    "\n",
    "LR.fit(X_train, y_train)\n",
    "RF.fit(X_train,y_train)\n",
    "SVM.fit(X_train,y_train)\n",
    "LDA.fit(X_train,y_train)\n",
    "KNN.fit(X_train,y_train)\n",
    "CART.fit(X_train,y_train)\n",
    "GBDT.fit(X_train,y_train)\n",
    "NB.fit(X_train,y_train)\n",
    "#kmeans.fit(X_train,y_train)"
   ]
  },
  {
   "cell_type": "code",
   "execution_count": 5,
   "id": "30a4ec61",
   "metadata": {},
   "outputs": [
    {
     "name": "stdout",
     "output_type": "stream",
     "text": [
      "AUC for LR: 0.798\n",
      "AUC for RF: 0.752\n",
      "AUC for SVM: 0.672\n",
      "AUC for LDA: 0.785\n",
      "AUC for KNN: 0.606\n",
      "AUC for CART: 0.534\n",
      "AUC for GBDT: 0.759\n",
      "AUC for NB: 0.640\n"
     ]
    }
   ],
   "source": [
    "#AUC 越大越好\n",
    "from sklearn.metrics import roc_auc_score\n",
    "\n",
    "LR_auc = roc_auc_score(y_test, LR.predict_proba(X_test)[:,1])\n",
    "RF_auc = roc_auc_score(y_test, RF.predict_proba(X_test)[:,1])\n",
    "SVM_auc = roc_auc_score(y_test, SVM.decision_function(X_test))\n",
    "LDA_auc = roc_auc_score(y_test, LDA.predict_proba(X_test)[:,1])\n",
    "KNN_auc = roc_auc_score(y_test, KNN.predict_proba(X_test)[:,1])\n",
    "CART_auc = roc_auc_score(y_test, CART.predict_proba(X_test)[:,1])\n",
    "GBDT_auc = roc_auc_score(y_test, GBDT.predict_proba(X_test)[:,1])\n",
    "NB_auc = roc_auc_score(y_test, NB.predict_proba(X_test)[:,1])\n",
    "\n",
    "print(\"AUC for LR: {:.3f}\".format(LR_auc))\n",
    "print(\"AUC for RF: {:.3f}\".format(RF_auc))\n",
    "print(\"AUC for SVM: {:.3f}\".format(SVM_auc))\n",
    "print(\"AUC for LDA: {:.3f}\".format(LDA_auc))\n",
    "print(\"AUC for KNN: {:.3f}\".format(KNN_auc))\n",
    "print(\"AUC for CART: {:.3f}\".format(CART_auc))\n",
    "print(\"AUC for GBDT: {:.3f}\".format(GBDT_auc))\n",
    "print(\"AUC for NB: {:.3f}\".format(NB_auc))"
   ]
  },
  {
   "cell_type": "code",
   "execution_count": 14,
   "id": "f22e37f4",
   "metadata": {},
   "outputs": [
    {
     "name": "stdout",
     "output_type": "stream",
     "text": [
      "AUC for RF: 0.798\n"
     ]
    }
   ],
   "source": [
    "#逻辑回归 阈值设置\n",
    "#调整阈值使AUC/F1-score提高\n",
    "THRESHOLD = 0.164\n",
    "y_pred = np.where(LR.predict_proba(X_test)[:,1] >= THRESHOLD, 1, 0)\n",
    "y_pred_proba_new_threshold = (LR.predict_proba(X_test)[:,1] >= THRESHOLD).astype(int)\n",
    "\n",
    "auc = roc_auc_score(y_test,LR.predict_proba(X_test)[:,1])\n",
    "print(\"AUC for RF: {:.3f}\".format(auc))"
   ]
  },
  {
   "cell_type": "code",
   "execution_count": 13,
   "id": "317e0ddc",
   "metadata": {},
   "outputs": [
    {
     "name": "stdout",
     "output_type": "stream",
     "text": [
      "Confusion matrix: \n",
      " [[389  58]\n",
      " [ 20  21]]\n",
      "Classification report: \n",
      "               precision    recall  f1-score   support\n",
      "\n",
      "         0.0       0.95      0.87      0.91       447\n",
      "         1.0       0.27      0.51      0.35        41\n",
      "\n",
      "    accuracy                           0.84       488\n",
      "   macro avg       0.61      0.69      0.63       488\n",
      "weighted avg       0.89      0.84      0.86       488\n",
      "\n",
      "TS-score: 0.212\n"
     ]
    }
   ],
   "source": [
    "cm = confusion_matrix(y_test,y_pred)\n",
    "print('Confusion matrix: \\n',cm)\n",
    "print('Classification report: \\n',classification_report(y_test,y_pred))\n",
    "print('TS-score: {:.3f}'.format(cm[1][1]/(cm[1][1]+cm[0][1]+cm[1][0])))"
   ]
  },
  {
   "cell_type": "code",
   "execution_count": 10,
   "id": "ae26ffe1",
   "metadata": {},
   "outputs": [
    {
     "data": {
      "text/plain": [
       "<matplotlib.legend.Legend at 0x1b7c9ae2d30>"
      ]
     },
     "execution_count": 10,
     "metadata": {},
     "output_type": "execute_result"
    },
    {
     "data": {
      "image/png": "[encoded data removed]",
      "text/plain": [
       "<Figure size 432x288 with 1 Axes>"
      ]
     },
     "metadata": {
      "needs_background": "light"
     },
     "output_type": "display_data"
    }
   ],
   "source": [
    "from sklearn.metrics import roc_curve\n",
    "fpr, tpr, thresholds = roc_curve(y_test, SVM.decision_function(X_test))\n",
    "fpr_rf, tpr_rf, thresholds_rf = roc_curve(y_test, RF.predict_proba(X_test)[:, 1])\n",
    "plt.plot(fpr, tpr, label=\"Roc Curve SVC\")\n",
    "plt.plot(fpr_rf, tpr_rf, label=\"Roc Curve RF\")\n",
    "plt.xlabel(\"FPR\")\n",
    "plt.ylabel(\"Recall\")\n",
    "\n",
    "#找到最接近于0的阈值\n",
    "close_zero = np.argmin(abs(thresholds))\n",
    "#np.argmin() 列表中最小值的索引  abs() 绝对值\n",
    "plt.plot(fpr[close_zero], tpr[close_zero], 'o', markersize=10, label=\"threshold zero SVC\",\n",
    "fillstyle=\"none\", c='k', mew=2)\n",
    "\n",
    "close_default_rf = np.argmin(np.abs(thresholds_rf-0.5))\n",
    "plt.plot(fpr_rf[close_default_rf], tpr_rf[close_default_rf], 'x', markersize=10, label=\"threshold 0.5 RF\",\n",
    "fillstyle=\"none\", c='k', mew=2)\n",
    "plt.legend(loc=4)"
   ]
  },
  {
   "cell_type": "code",
   "execution_count": null,
   "id": "df64ae1b",
   "metadata": {},
   "outputs": [],
   "source": []
  }
 ],
 "metadata": {
  "kernelspec": {
   "display_name": "Python 3",
   "language": "python",
   "name": "python3"
  },
  "language_info": {
   "codemirror_mode": {
    "name": "ipython",
    "version": 3
   },
   "file_extension": ".py",
   "mimetype": "text/x-python",
   "name": "python",
   "nbconvert_exporter": "python",
   "pygments_lexer": "ipython3",
   "version": "3.8.8"
  }
 },
 "nbformat": 4,
 "nbformat_minor": 5
}
