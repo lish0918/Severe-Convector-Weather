{
 "cells": [
  {
   "cell_type": "markdown",
   "id": "6d0b4d40",
   "metadata": {},
   "source": [
    "# Imbalanced-learn for"
   ]
  },
  {
   "cell_type": "code",
   "execution_count": 1,
   "id": "9ae4c865",
   "metadata": {},
   "outputs": [],
   "source": [
    "from sklearn.metrics import classification_report,confusion_matrix,log_loss,auc,plot_confusion_matrix\n",
    "from sklearn.preprocessing import (\n",
    "    MinMaxScaler, label_binarize, OneHotEncoder, LabelEncoder)\n",
    "from sklearn.model_selection import GridSearchCV,train_test_split\n",
    "from sklearn.ensemble import GradientBoostingClassifier,RandomForestClassifier,AdaBoostClassifier\n",
    "from sklearn.tree import DecisionTreeClassifier\n",
    "from sklearn.linear_model import LogisticRegression\n",
    "from sklearn.model_selection import KFold\n",
    "from sklearn.model_selection import StratifiedKFold\n",
    "from sklearn.model_selection import TimeSeriesSplit\n",
    "from sklearn.model_selection import cross_val_score\n",
    "from itertools import cycle, product\n",
    "import datetime\n",
    "import numpy as np\n",
    "import pandas as pd\n",
    "import matplotlib.pyplot as plt\n",
    "from itertools import cycle\n",
    "import seaborn as sns\n",
    "import warnings\n",
    "import random\n",
    "from tqdm import tqdm_notebook\n",
    "warnings.filterwarnings('ignore')\n",
    "%matplotlib inline"
   ]
  },
  {
   "cell_type": "markdown",
   "id": "b379b367",
   "metadata": {},
   "source": [
    "## Raw Data"
   ]
  },
  {
   "cell_type": "code",
   "execution_count": 2,
   "id": "61508902",
   "metadata": {},
   "outputs": [],
   "source": [
    "dataset=pd.read_excel('../Case.xlsx',sheet_name='initial')\n",
    "data=dataset.values\n",
    "\n",
    "array=[]\n",
    "for i in data:\n",
    "    if i[0]==6:\n",
    "        array.append(list(i))\n",
    "    data=np.array(array)\n",
    "    \n",
    "X =data[:,1:18] #1:18\n",
    "Y =data[:,19]\n",
    "#seed = random.randint(0,1000)\n",
    "seed = 650\n",
    "X_train,X_test,y_train,y_test = train_test_split(X, Y, test_size=0.2, random_state=seed)\n",
    "\n",
    "dict_resample = {}\n",
    "dict_model = {}"
   ]
  },
  {
   "cell_type": "markdown",
   "id": "3073b003",
   "metadata": {},
   "source": [
    "## Over-sampling"
   ]
  },
  {
   "cell_type": "markdown",
   "id": "362be73c",
   "metadata": {},
   "source": [
    "### RandomOverSample"
   ]
  },
  {
   "cell_type": "code",
   "execution_count": 3,
   "id": "e5f88e15",
   "metadata": {},
   "outputs": [
    {
     "name": "stdout",
     "output_type": "stream",
     "text": [
      "[(0.0, 89), (1.0, 89)]\n"
     ]
    }
   ],
   "source": [
    "# 简单的复制样本\n",
    "from imblearn.over_sampling import RandomOverSampler\n",
    "ros = RandomOverSampler(random_state=0)\n",
    "X_resampled ,y_resampled= ros.fit_resample(X_train,y_train)\n",
    "from collections import Counter\n",
    "print(sorted(Counter(y_resampled).items()))\n",
    "dict_resample['RandomOverSampler'] = (X_resampled ,y_resampled)"
   ]
  },
  {
   "cell_type": "markdown",
   "id": "b2431478",
   "metadata": {},
   "source": [
    "### SMOTE"
   ]
  },
  {
   "cell_type": "code",
   "execution_count": 4,
   "id": "0de7a2c2",
   "metadata": {},
   "outputs": [
    {
     "name": "stdout",
     "output_type": "stream",
     "text": [
      "[(0.0, 89), (1.0, 89)]\n"
     ]
    }
   ],
   "source": [
    "from imblearn.over_sampling import SMOTE, ADASYN\n",
    "X_resampled, y_resampled = SMOTE(k_neighbors=2).fit_resample(X_train, y_train)\n",
    "print(sorted(Counter(y_resampled).items()))\n",
    "dict_resample['SMOTE'] = (X_resampled ,y_resampled)"
   ]
  },
  {
   "cell_type": "markdown",
   "id": "cc6b00bd",
   "metadata": {},
   "source": [
    "### ADASYN"
   ]
  },
  {
   "cell_type": "code",
   "execution_count": 5,
   "id": "2a1869ee",
   "metadata": {},
   "outputs": [
    {
     "name": "stdout",
     "output_type": "stream",
     "text": [
      "[(0.0, 89), (1.0, 91)]\n"
     ]
    }
   ],
   "source": [
    "from imblearn.over_sampling import SMOTE, ADASYN\n",
    "X_resampled, y_resampled = ADASYN(n_neighbors=2).fit_resample(X_train, y_train)\n",
    "print(sorted(Counter(y_resampled).items()))\n",
    "dict_resample['ADASYN'] = (X_resampled ,y_resampled)"
   ]
  },
  {
   "cell_type": "markdown",
   "id": "7f2156d3",
   "metadata": {},
   "source": [
    "### BorderlineSMOTE"
   ]
  },
  {
   "cell_type": "code",
   "execution_count": 6,
   "id": "a3803a31",
   "metadata": {},
   "outputs": [
    {
     "name": "stdout",
     "output_type": "stream",
     "text": [
      "[(0.0, 89), (1.0, 89)]\n"
     ]
    }
   ],
   "source": [
    "from imblearn.over_sampling import BorderlineSMOTE\n",
    "X_resampled, y_resampled = BorderlineSMOTE(kind='borderline-1',k_neighbors=2).fit_resample(X_train, y_train)\n",
    "print(sorted(Counter(y_resampled).items()))\n",
    "dict_resample['BorderlineSMOTE-1'] = (X_resampled ,y_resampled)"
   ]
  },
  {
   "cell_type": "code",
   "execution_count": 7,
   "id": "caa17fb9",
   "metadata": {},
   "outputs": [
    {
     "name": "stdout",
     "output_type": "stream",
     "text": [
      "[(0.0, 89), (1.0, 89)]\n"
     ]
    }
   ],
   "source": [
    "from imblearn.over_sampling import BorderlineSMOTE\n",
    "X_resampled, y_resampled = BorderlineSMOTE(kind='borderline-2',k_neighbors=2).fit_resample(X_train, y_train)\n",
    "print(sorted(Counter(y_resampled).items()))\n",
    "dict_resample['BorderlineSMOTE-2'] = (X_resampled ,y_resampled)"
   ]
  },
  {
   "cell_type": "markdown",
   "id": "886163f2",
   "metadata": {},
   "source": [
    "## Bagging"
   ]
  },
  {
   "cell_type": "markdown",
   "id": "3ae8263f",
   "metadata": {},
   "source": [
    "使用训练数据的不同随机子集来训练每个 Base Model，最后每个 Base Model 权重相同，分类问题进行投票，回归问题平均。\n",
    "\n",
    "随机森林就用到了Bagging，并且具有天然的并行性。"
   ]
  },
  {
   "cell_type": "markdown",
   "id": "a4174384",
   "metadata": {},
   "source": [
    "### Bagging"
   ]
  },
  {
   "cell_type": "code",
   "execution_count": 8,
   "id": "5cde4d67",
   "metadata": {},
   "outputs": [
    {
     "name": "stdout",
     "output_type": "stream",
     "text": [
      "[(0.0, 89), (1.0, 7)]\n"
     ]
    }
   ],
   "source": [
    "print(sorted(Counter(y_train).items()))\n",
    "dict_model['Bagging'] = (X_train ,y_train)"
   ]
  },
  {
   "cell_type": "markdown",
   "id": "f9f1cafe",
   "metadata": {},
   "source": [
    "### BalancedBagging"
   ]
  },
  {
   "cell_type": "code",
   "execution_count": 9,
   "id": "a83acd04",
   "metadata": {},
   "outputs": [
    {
     "name": "stdout",
     "output_type": "stream",
     "text": [
      "[(0.0, 89), (1.0, 7)]\n"
     ]
    }
   ],
   "source": [
    "print(sorted(Counter(y_train).items()))\n",
    "dict_model['BalancedBagging'] = (X_train ,y_train)"
   ]
  },
  {
   "cell_type": "markdown",
   "id": "6f0eccc9",
   "metadata": {},
   "source": [
    "### BalancedRandomForest"
   ]
  },
  {
   "cell_type": "code",
   "execution_count": 10,
   "id": "dfb391d8",
   "metadata": {},
   "outputs": [
    {
     "name": "stdout",
     "output_type": "stream",
     "text": [
      "[(0.0, 89), (1.0, 7)]\n"
     ]
    }
   ],
   "source": [
    "print(sorted(Counter(y_train).items()))\n",
    "dict_model['BalancedRandomForest'] = (X_train ,y_train)"
   ]
  },
  {
   "cell_type": "markdown",
   "id": "a14d877f",
   "metadata": {},
   "source": [
    "## Boosting"
   ]
  },
  {
   "cell_type": "markdown",
   "id": "7570aace",
   "metadata": {},
   "source": [
    "Boosting是一种迭代的方法，每一次训练会更关心上一次被分错的样本，比如改变被错分的样本的权重的Adaboost方法。还有许多都是基于这种思想，比如Gradient Boosting等。"
   ]
  },
  {
   "cell_type": "markdown",
   "id": "228148fa",
   "metadata": {},
   "source": [
    "### RUSBoost"
   ]
  },
  {
   "cell_type": "code",
   "execution_count": 11,
   "id": "6ffac187",
   "metadata": {},
   "outputs": [
    {
     "name": "stdout",
     "output_type": "stream",
     "text": [
      "[(0.0, 89), (1.0, 7)]\n"
     ]
    }
   ],
   "source": [
    "print(sorted(Counter(y_train).items()))\n",
    "dict_model['RUSBoost'] = (X_train ,y_train)"
   ]
  },
  {
   "cell_type": "markdown",
   "id": "aa99521d",
   "metadata": {},
   "source": [
    "### EasyEnsemble"
   ]
  },
  {
   "cell_type": "code",
   "execution_count": 12,
   "id": "f0c97941",
   "metadata": {},
   "outputs": [
    {
     "name": "stdout",
     "output_type": "stream",
     "text": [
      "[(0.0, 89), (1.0, 7)]\n"
     ]
    }
   ],
   "source": [
    "print(sorted(Counter(y_train).items()))\n",
    "dict_model['EasyEnsemble'] = (X_train ,y_train)"
   ]
  },
  {
   "cell_type": "markdown",
   "id": "26088094",
   "metadata": {},
   "source": [
    "## 评估"
   ]
  },
  {
   "cell_type": "code",
   "execution_count": 13,
   "id": "fd2c2cc5",
   "metadata": {
    "scrolled": true
   },
   "outputs": [
    {
     "data": {
      "application/vnd.jupyter.widget-view+json": {
       "model_id": "45dde8b725ff45e8aa7dc30ccc90041c",
       "version_major": 2,
       "version_minor": 0
      },
      "text/plain": [
       "  0%|          | 0/5 [00:00<?, ?it/s]"
      ]
     },
     "metadata": {},
     "output_type": "display_data"
    },
    {
     "ename": "ValueError",
     "evalue": "Only one class present in y_true. ROC AUC score is not defined in that case.",
     "output_type": "error",
     "traceback": [
      "\u001b[1;31m---------------------------------------------------------------------------\u001b[0m",
      "\u001b[1;31mValueError\u001b[0m                                Traceback (most recent call last)",
      "\u001b[1;32m<ipython-input-13-760ce7a24f77>\u001b[0m in \u001b[0;36m<module>\u001b[1;34m\u001b[0m\n\u001b[0;32m     37\u001b[0m     \u001b[0mcm\u001b[0m\u001b[1;33m.\u001b[0m\u001b[0mappend\u001b[0m\u001b[1;33m(\u001b[0m\u001b[1;33m(\u001b[0m\u001b[0mname\u001b[0m\u001b[1;33m,\u001b[0m \u001b[0mcnf_matrix\u001b[0m\u001b[1;33m)\u001b[0m\u001b[1;33m)\u001b[0m\u001b[1;33m\u001b[0m\u001b[1;33m\u001b[0m\u001b[0m\n\u001b[0;32m     38\u001b[0m     \u001b[1;31m# ROC\u001b[0m\u001b[1;33m\u001b[0m\u001b[1;33m\u001b[0m\u001b[1;33m\u001b[0m\u001b[0m\n\u001b[1;32m---> 39\u001b[1;33m     roc_auc = roc_auc_score(\n\u001b[0m\u001b[0;32m     40\u001b[0m         y_test, y_test_score[:,1])\n\u001b[0;32m     41\u001b[0m     \u001b[0mauc\u001b[0m\u001b[1;33m.\u001b[0m\u001b[0mappend\u001b[0m\u001b[1;33m(\u001b[0m\u001b[0mroc_auc\u001b[0m\u001b[1;33m)\u001b[0m\u001b[1;33m\u001b[0m\u001b[1;33m\u001b[0m\u001b[0m\n",
      "\u001b[1;32mE:\\anaconda3\\lib\\site-packages\\sklearn\\metrics\\_ranking.py\u001b[0m in \u001b[0;36mroc_auc_score\u001b[1;34m(y_true, y_score, average, sample_weight, max_fpr, multi_class, labels)\u001b[0m\n\u001b[0;32m    565\u001b[0m         \u001b[0mlabels\u001b[0m \u001b[1;33m=\u001b[0m \u001b[0mnp\u001b[0m\u001b[1;33m.\u001b[0m\u001b[0munique\u001b[0m\u001b[1;33m(\u001b[0m\u001b[0my_true\u001b[0m\u001b[1;33m)\u001b[0m\u001b[1;33m\u001b[0m\u001b[1;33m\u001b[0m\u001b[0m\n\u001b[0;32m    566\u001b[0m         \u001b[0my_true\u001b[0m \u001b[1;33m=\u001b[0m \u001b[0mlabel_binarize\u001b[0m\u001b[1;33m(\u001b[0m\u001b[0my_true\u001b[0m\u001b[1;33m,\u001b[0m \u001b[0mclasses\u001b[0m\u001b[1;33m=\u001b[0m\u001b[0mlabels\u001b[0m\u001b[1;33m)\u001b[0m\u001b[1;33m[\u001b[0m\u001b[1;33m:\u001b[0m\u001b[1;33m,\u001b[0m \u001b[1;36m0\u001b[0m\u001b[1;33m]\u001b[0m\u001b[1;33m\u001b[0m\u001b[1;33m\u001b[0m\u001b[0m\n\u001b[1;32m--> 567\u001b[1;33m         return _average_binary_score(\n\u001b[0m\u001b[0;32m    568\u001b[0m             \u001b[0mpartial\u001b[0m\u001b[1;33m(\u001b[0m\u001b[0m_binary_roc_auc_score\u001b[0m\u001b[1;33m,\u001b[0m \u001b[0mmax_fpr\u001b[0m\u001b[1;33m=\u001b[0m\u001b[0mmax_fpr\u001b[0m\u001b[1;33m)\u001b[0m\u001b[1;33m,\u001b[0m\u001b[1;33m\u001b[0m\u001b[1;33m\u001b[0m\u001b[0m\n\u001b[0;32m    569\u001b[0m             \u001b[0my_true\u001b[0m\u001b[1;33m,\u001b[0m\u001b[1;33m\u001b[0m\u001b[1;33m\u001b[0m\u001b[0m\n",
      "\u001b[1;32mE:\\anaconda3\\lib\\site-packages\\sklearn\\metrics\\_base.py\u001b[0m in \u001b[0;36m_average_binary_score\u001b[1;34m(binary_metric, y_true, y_score, average, sample_weight)\u001b[0m\n\u001b[0;32m     73\u001b[0m \u001b[1;33m\u001b[0m\u001b[0m\n\u001b[0;32m     74\u001b[0m     \u001b[1;32mif\u001b[0m \u001b[0my_type\u001b[0m \u001b[1;33m==\u001b[0m \u001b[1;34m\"binary\"\u001b[0m\u001b[1;33m:\u001b[0m\u001b[1;33m\u001b[0m\u001b[1;33m\u001b[0m\u001b[0m\n\u001b[1;32m---> 75\u001b[1;33m         \u001b[1;32mreturn\u001b[0m \u001b[0mbinary_metric\u001b[0m\u001b[1;33m(\u001b[0m\u001b[0my_true\u001b[0m\u001b[1;33m,\u001b[0m \u001b[0my_score\u001b[0m\u001b[1;33m,\u001b[0m \u001b[0msample_weight\u001b[0m\u001b[1;33m=\u001b[0m\u001b[0msample_weight\u001b[0m\u001b[1;33m)\u001b[0m\u001b[1;33m\u001b[0m\u001b[1;33m\u001b[0m\u001b[0m\n\u001b[0m\u001b[0;32m     76\u001b[0m \u001b[1;33m\u001b[0m\u001b[0m\n\u001b[0;32m     77\u001b[0m     \u001b[0mcheck_consistent_length\u001b[0m\u001b[1;33m(\u001b[0m\u001b[0my_true\u001b[0m\u001b[1;33m,\u001b[0m \u001b[0my_score\u001b[0m\u001b[1;33m,\u001b[0m \u001b[0msample_weight\u001b[0m\u001b[1;33m)\u001b[0m\u001b[1;33m\u001b[0m\u001b[1;33m\u001b[0m\u001b[0m\n",
      "\u001b[1;32mE:\\anaconda3\\lib\\site-packages\\sklearn\\metrics\\_ranking.py\u001b[0m in \u001b[0;36m_binary_roc_auc_score\u001b[1;34m(y_true, y_score, sample_weight, max_fpr)\u001b[0m\n\u001b[0;32m    335\u001b[0m     \u001b[1;34m\"\"\"Binary roc auc score.\"\"\"\u001b[0m\u001b[1;33m\u001b[0m\u001b[1;33m\u001b[0m\u001b[0m\n\u001b[0;32m    336\u001b[0m     \u001b[1;32mif\u001b[0m \u001b[0mlen\u001b[0m\u001b[1;33m(\u001b[0m\u001b[0mnp\u001b[0m\u001b[1;33m.\u001b[0m\u001b[0munique\u001b[0m\u001b[1;33m(\u001b[0m\u001b[0my_true\u001b[0m\u001b[1;33m)\u001b[0m\u001b[1;33m)\u001b[0m \u001b[1;33m!=\u001b[0m \u001b[1;36m2\u001b[0m\u001b[1;33m:\u001b[0m\u001b[1;33m\u001b[0m\u001b[1;33m\u001b[0m\u001b[0m\n\u001b[1;32m--> 337\u001b[1;33m         raise ValueError(\n\u001b[0m\u001b[0;32m    338\u001b[0m             \u001b[1;34m\"Only one class present in y_true. ROC AUC score \"\u001b[0m\u001b[1;33m\u001b[0m\u001b[1;33m\u001b[0m\u001b[0m\n\u001b[0;32m    339\u001b[0m             \u001b[1;34m\"is not defined in that case.\"\u001b[0m\u001b[1;33m\u001b[0m\u001b[1;33m\u001b[0m\u001b[0m\n",
      "\u001b[1;31mValueError\u001b[0m: Only one class present in y_true. ROC AUC score is not defined in that case."
     ]
    }
   ],
   "source": [
    "from sklearn.svm import LinearSVC\n",
    "from imblearn.metrics import classification_report_imbalanced\n",
    "from sklearn.metrics import roc_auc_score\n",
    "from sklearn.metrics import roc_curve\n",
    "################### train #####################################\n",
    "scores={}\n",
    "cm = []\n",
    "auc = []\n",
    "for name, (X, y) in tqdm_notebook(list(dict_model.items())):\n",
    "    if name in ['Bagging']:\n",
    "        from sklearn.ensemble import BaggingClassifier\n",
    "        from sklearn.tree import DecisionTreeClassifier\n",
    "        clf = BaggingClassifier(base_estimator=DecisionTreeClassifier(),\n",
    "                                random_state=0)\n",
    "    elif name in ['BalancedBagging']:\n",
    "        from imblearn.ensemble import BalancedBaggingClassifier\n",
    "        clf = BalancedBaggingClassifier(base_estimator=DecisionTreeClassifier(),\n",
    "                                        sampling_strategy='auto',\n",
    "                                        replacement=False,\n",
    "                                        random_state=0)\n",
    "    elif name in ['BalancedRandomForest']:\n",
    "        from imblearn.ensemble import BalancedRandomForestClassifier\n",
    "        clf = BalancedRandomForestClassifier(n_estimators=100, random_state=0)\n",
    "    elif name in ['RUSBoost']:\n",
    "        from imblearn.ensemble import RUSBoostClassifier\n",
    "        clf = RUSBoostClassifier(random_state=0)\n",
    "    elif name in ['EasyEnsemble']:\n",
    "        from imblearn.ensemble import EasyEnsembleClassifier\n",
    "        clf = EasyEnsembleClassifier(random_state=0)\n",
    "\n",
    "    clf.fit(X, y)\n",
    "    y_test_pred = clf.predict(X_test)\n",
    "    y_test_score = clf.predict_proba(X_test)  # valid score\n",
    "\n",
    "    # 混淆矩阵\n",
    "    cnf_matrix = confusion_matrix(y_test, y_test_pred)\n",
    "    cm.append((name, cnf_matrix))\n",
    "    # ROC\n",
    "    roc_auc = roc_auc_score(\n",
    "        y_test, y_test_score[:,1])\n",
    "    auc.append(roc_auc)"
   ]
  },
  {
   "cell_type": "code",
   "execution_count": null,
   "id": "75e4fb7e",
   "metadata": {},
   "outputs": [],
   "source": [
    "for name, (X, y) in tqdm_notebook(list(dict_resample.items())):\n",
    "    RANDOM_STATE = 2019\n",
    "    clf = RandomForestClassifier(n_estimators=161,\n",
    "                                     max_depth=49,\n",
    "                                     max_features=\"sqrt\",\n",
    "                                     random_state=RANDOM_STATE)\n",
    "    \n",
    "    clf.fit(X, y)\n",
    "    y_test_pred = clf.predict(X_test)\n",
    "    y_test_score = clf.predict_proba(X_test)  # valid score\n",
    "    \n",
    "    cnf_matrix = confusion_matrix(y_test, y_test_pred)\n",
    "    cm.append(('RF'+name, cnf_matrix))\n",
    "    # ROC\n",
    "    roc_auc = roc_auc_score(\n",
    "        y_test, y_test_score[:,1])\n",
    "    auc.append(roc_auc)"
   ]
  },
  {
   "cell_type": "code",
   "execution_count": null,
   "id": "c396138f",
   "metadata": {},
   "outputs": [],
   "source": [
    "from sklearn.linear_model import LogisticRegression\n",
    "for name, (X, y) in tqdm_notebook(list(dict_resample.items())):\n",
    "    clf = LogisticRegression(penalty=\"l2\",solver=\"liblinear\",C=0.8,max_iter=1000)\n",
    "       \n",
    "    clf.fit(X, y)\n",
    "    y_test_pred = clf.predict(X_test)\n",
    "    y_test_score = clf.predict_proba(X_test)  # valid score\n",
    "    \n",
    "    cnf_matrix = confusion_matrix(y_test, y_test_pred)\n",
    "    cm.append(('LR'+name, cnf_matrix))\n",
    "    # ROC\n",
    "    roc_auc = roc_auc_score(\n",
    "        y_test, y_test_score[:,1])\n",
    "    auc.append(roc_auc)"
   ]
  },
  {
   "cell_type": "code",
   "execution_count": null,
   "id": "57e5dd47",
   "metadata": {},
   "outputs": [],
   "source": [
    "for name, (X, y) in tqdm_notebook(list(dict_resample.items())):\n",
    "    clf = AdaBoostClassifier(n_estimators=161,\n",
    "                             learning_rate=0.5,\n",
    "                                     random_state=RANDOM_STATE)\n",
    "    \n",
    "    clf.fit(X, y)\n",
    "    y_test_pred = clf.predict(X_test)\n",
    "    y_test_score = clf.predict_proba(X_test)  # valid score\n",
    "    \n",
    "    cnf_matrix = confusion_matrix(y_test, y_test_pred)\n",
    "    cm.append(('AdaBoost'+name, cnf_matrix))\n",
    "    # ROC\n",
    "    roc_auc = roc_auc_score(\n",
    "        y_test, y_test_score[:,1])\n",
    "    auc.append(roc_auc)"
   ]
  },
  {
   "cell_type": "code",
   "execution_count": null,
   "id": "4480a576",
   "metadata": {},
   "outputs": [],
   "source": [
    "for i in auc:\n",
    "    print(\"{:.3f}\".format(i))"
   ]
  },
  {
   "cell_type": "code",
   "execution_count": null,
   "id": "382d0784",
   "metadata": {},
   "outputs": [],
   "source": [
    "for name,c in cm:\n",
    "    print(\"{:.3f}\".format(c[1][1]/(c[1][1]+c[0][1]+c[1][0])))"
   ]
  },
  {
   "cell_type": "code",
   "execution_count": null,
   "id": "58ff82f9",
   "metadata": {},
   "outputs": [],
   "source": [
    "print(seed)"
   ]
  },
  {
   "cell_type": "code",
   "execution_count": null,
   "id": "c2163f60",
   "metadata": {},
   "outputs": [],
   "source": [
    "for name,c in cm:\n",
    "    print(\"{:}\".format(name))"
   ]
  },
  {
   "cell_type": "code",
   "execution_count": null,
   "id": "691a6a1c",
   "metadata": {},
   "outputs": [],
   "source": [
    "ytest = pd.Series(y_test) \n",
    "ytest.value_counts()"
   ]
  }
 ],
 "metadata": {
  "kernelspec": {
   "display_name": "Python 3",
   "language": "python",
   "name": "python3"
  },
  "language_info": {
   "codemirror_mode": {
    "name": "ipython",
    "version": 3
   },
   "file_extension": ".py",
   "mimetype": "text/x-python",
   "name": "python",
   "nbconvert_exporter": "python",
   "pygments_lexer": "ipython3",
   "version": "3.8.8"
  }
 },
 "nbformat": 4,
 "nbformat_minor": 5
}
