{
 "cells": [
  {
   "cell_type": "code",
   "execution_count": 1,
   "id": "bd6f5479",
   "metadata": {},
   "outputs": [],
   "source": [
    "import pandas\n",
    "import numpy as np\n",
    "from pandas.plotting import scatter_matrix\n",
    "import matplotlib.pyplot as plt\n",
    "from sklearn import model_selection\n",
    "from sklearn.metrics import classification_report\n",
    "from sklearn.metrics import confusion_matrix\n",
    "from sklearn.metrics import accuracy_score\n",
    "from sklearn.model_selection import train_test_split\n",
    "import random\n",
    "\n",
    "from sklearn.discriminant_analysis import LinearDiscriminantAnalysis #线性判别分析#\n",
    "from sklearn.naive_bayes import GaussianNB #朴素贝叶斯分类器#\n",
    "from sklearn.svm import SVC #支持向量机#\n",
    "from sklearn.linear_model import LogisticRegression #逻辑回归#\n",
    "from sklearn.neighbors import KNeighborsClassifier #K临近#\n",
    "from sklearn.tree import DecisionTreeClassifier #决策树分类器CART#\n",
    "from sklearn.cluster import KMeans #kmeans聚类#\n",
    "from sklearn.ensemble import RandomForestClassifier #随机森林#\n",
    "from sklearn.ensemble import GradientBoostingClassifier #梯度提升决策树(GBDT)#"
   ]
  },
  {
   "cell_type": "code",
   "execution_count": 2,
   "id": "ea7caa60",
   "metadata": {},
   "outputs": [],
   "source": [
    "dataset=pandas.read_excel('Case.xlsx',sheet_name='initial')"
   ]
  },
  {
   "cell_type": "code",
   "execution_count": 3,
   "id": "5451d2e7",
   "metadata": {},
   "outputs": [],
   "source": [
    "array_0=dataset.values\n",
    "\n",
    "array=[]\n",
    "for i in array_0:\n",
    "    if i[0]==3:\n",
    "        array.append(list(i))\n",
    "    data=np.array(array)\n",
    "\n",
    "X =data[:,1:18]  #1:18 8:10\n",
    "Y =data[:,20]  #19 20\n",
    "seed=random.randint(0,1000)\n",
    "X_train,X_test,y_train,y_test = train_test_split(X, Y, test_size=0.2, random_state=seed)"
   ]
  },
  {
   "cell_type": "code",
   "execution_count": 4,
   "id": "8105106a",
   "metadata": {},
   "outputs": [
    {
     "data": {
      "text/plain": [
       "KMeans(n_clusters=3, random_state=0)"
      ]
     },
     "execution_count": 4,
     "metadata": {},
     "output_type": "execute_result"
    }
   ],
   "source": [
    "#LR = LogisticRegression(max_iter=10000)\n",
    "RF=RandomForestClassifier()\n",
    "SVM=SVC(probability=True)\n",
    "LDA=LinearDiscriminantAnalysis()\n",
    "KNN=KNeighborsClassifier()\n",
    "CART=DecisionTreeClassifier()\n",
    "GBDT=GradientBoostingClassifier(n_estimators=100,learning_rate=0.1,max_depth=1,random_state=0)\n",
    "NB=GaussianNB()\n",
    "kmeans=KMeans(n_clusters=3,random_state=0)\n",
    "\n",
    "RF.fit(X_train,y_train)\n",
    "SVM.fit(X_train,y_train)\n",
    "LDA.fit(X_train,y_train)\n",
    "KNN.fit(X_train,y_train)\n",
    "CART.fit(X_train,y_train)\n",
    "GBDT.fit(X_train,y_train)\n",
    "NB.fit(X_train,y_train)\n",
    "kmeans.fit(X_train,y_train)"
   ]
  },
  {
   "cell_type": "code",
   "execution_count": 5,
   "id": "12c688a7",
   "metadata": {},
   "outputs": [
    {
     "name": "stdout",
     "output_type": "stream",
     "text": [
      "0.750\n",
      "0.589\n",
      "0.801\n",
      "0.566\n",
      "0.523\n",
      "0.754\n",
      "0.701\n"
     ]
    }
   ],
   "source": [
    "from sklearn.metrics import roc_auc_score\n",
    "# you might be predicting the class this way\n",
    "#pred = clf.predict(X_valid)\n",
    "#多分类\n",
    "# change it to predict the probabilities which solves the AxisError problem.\n",
    "\n",
    "y_pred2 = RF.predict_proba(X_test)\n",
    "y_pred3 = SVM.predict_proba(X_test)\n",
    "y_pred4 = LDA.predict_proba(X_test)\n",
    "y_pred5 = KNN.predict_proba(X_test)\n",
    "y_pred6 = CART.predict_proba(X_test)\n",
    "y_pred7 = GBDT.predict_proba(X_test)\n",
    "y_pred8 = NB.predict_proba(X_test)\n",
    "\n",
    "RF_auc = roc_auc_score(y_test, y_pred2, multi_class='ovr')\n",
    "SVM_auc = roc_auc_score(y_test, y_pred3, multi_class='ovr')\n",
    "LDA_auc = roc_auc_score(y_test, y_pred4, multi_class='ovr')\n",
    "KNN_auc = roc_auc_score(y_test, y_pred5, multi_class='ovr')\n",
    "CART_auc = roc_auc_score(y_test, y_pred6, multi_class='ovr')\n",
    "GBDT_auc = roc_auc_score(y_test, y_pred7, multi_class='ovr')\n",
    "NB_auc = roc_auc_score(y_test, y_pred8, multi_class='ovr')\n",
    "\n",
    "print(\"{:.3f}\".format(RF_auc))\n",
    "print(\"{:.3f}\".format(SVM_auc))\n",
    "print(\"{:.3f}\".format(LDA_auc))\n",
    "print(\"{:.3f}\".format(KNN_auc))\n",
    "print(\"{:.3f}\".format(CART_auc))\n",
    "print(\"{:.3f}\".format(GBDT_auc))\n",
    "print(\"{:.3f}\".format(NB_auc))\n",
    "#error y_test和y_score之间的roc_auc_score不匹配\n",
    "#由于某一类标签在y_test中不存在"
   ]
  },
  {
   "cell_type": "code",
   "execution_count": 6,
   "id": "bb2aab4e",
   "metadata": {},
   "outputs": [],
   "source": [
    "#from sklearn.metrics import classification_report, confusion_matrix\n",
    "\n",
    "#cm = confusion_matrix(y_test,NB.predict(X_test))\n",
    "#print('Confusion matrix: \\n',cm)\n",
    "#print('Classification report: \\n',classification_report(y_test,LR.predict(X_test)))\n",
    "#print('{:.3f}'.format(cm[1][1]/(cm[1][1]+cm[0][1]+cm[1][0])))"
   ]
  },
  {
   "cell_type": "code",
   "execution_count": 7,
   "id": "ccf0fb37",
   "metadata": {
    "scrolled": true
   },
   "outputs": [
    {
     "name": "stdout",
     "output_type": "stream",
     "text": [
      "0.000\n",
      "0.000\n",
      "0.000\n",
      "0.000\n",
      "0.000\n",
      "0.000\n",
      "0.000\n"
     ]
    }
   ],
   "source": [
    "c = confusion_matrix(y_test,RF.predict(X_test))\n",
    "print('{:.3f}'.format(c[1][1]/(c[1][1]+c[1][0]+c[1][2]+c[1][3]+c[0][1]+c[2][1]+c[3][1])))\n",
    "c = confusion_matrix(y_test,SVM.predict(X_test))\n",
    "print('{:.3f}'.format(c[1][1]/(c[1][1]+c[1][0]+c[1][2]+c[1][3]+c[0][1]+c[2][1]+c[3][1])))\n",
    "c = confusion_matrix(y_test,LDA.predict(X_test))\n",
    "print('{:.3f}'.format(c[1][1]/(c[1][1]+c[1][0]+c[1][2]+c[1][3]+c[0][1]+c[2][1]+c[3][1])))\n",
    "c = confusion_matrix(y_test,KNN.predict(X_test))\n",
    "print('{:.3f}'.format(c[1][1]/(c[1][1]+c[1][0]+c[1][2]+c[1][3]+c[0][1]+c[2][1]+c[3][1])))\n",
    "c = confusion_matrix(y_test,CART.predict(X_test))\n",
    "print('{:.3f}'.format(c[1][1]/(c[1][1]+c[1][0]+c[1][2]+c[1][3]+c[0][1]+c[2][1]+c[3][1])))\n",
    "c = confusion_matrix(y_test,GBDT.predict(X_test))\n",
    "print('{:.3f}'.format(c[1][1]/(c[1][1]+c[1][0]+c[1][2]+c[1][3]+c[0][1]+c[2][1]+c[3][1])))\n",
    "c = confusion_matrix(y_test,NB.predict(X_test))\n",
    "print('{:.3f}'.format(c[1][1]/(c[1][1]+c[1][0]+c[1][2]+c[1][3]+c[0][1]+c[2][1]+c[3][1])))"
   ]
  },
  {
   "cell_type": "code",
   "execution_count": 8,
   "id": "bf9f7986",
   "metadata": {},
   "outputs": [
    {
     "name": "stdout",
     "output_type": "stream",
     "text": [
      "0.000\n",
      "0.000\n",
      "0.000\n",
      "0.000\n",
      "0.034\n",
      "0.000\n",
      "0.062\n"
     ]
    }
   ],
   "source": [
    "c = confusion_matrix(y_test,RF.predict(X_test))\n",
    "print('{:.3f}'.format(c[2][2]/(c[2][2]+c[2][0]+c[2][1]+c[2][3]+c[0][2]+c[1][2]+c[3][2])))\n",
    "c = confusion_matrix(y_test,SVM.predict(X_test))\n",
    "print('{:.3f}'.format(c[2][2]/(c[2][2]+c[2][0]+c[2][1]+c[2][3]+c[0][2]+c[1][2]+c[3][2])))\n",
    "c = confusion_matrix(y_test,LDA.predict(X_test))\n",
    "print('{:.3f}'.format(c[2][2]/(c[2][2]+c[2][0]+c[2][1]+c[2][3]+c[0][2]+c[1][2]+c[3][2])))\n",
    "c = confusion_matrix(y_test,KNN.predict(X_test))\n",
    "print('{:.3f}'.format(c[2][2]/(c[2][2]+c[2][0]+c[2][1]+c[2][3]+c[0][2]+c[1][2]+c[3][2])))\n",
    "c = confusion_matrix(y_test,CART.predict(X_test))\n",
    "print('{:.3f}'.format(c[2][2]/(c[2][2]+c[2][0]+c[2][1]+c[2][3]+c[0][2]+c[1][2]+c[3][2])))\n",
    "c = confusion_matrix(y_test,GBDT.predict(X_test))\n",
    "print('{:.3f}'.format(c[2][2]/(c[2][2]+c[2][0]+c[2][1]+c[2][3]+c[0][2]+c[1][2]+c[3][2])))\n",
    "c = confusion_matrix(y_test,NB.predict(X_test))\n",
    "print('{:.3f}'.format(c[2][2]/(c[2][2]+c[2][0]+c[2][1]+c[2][3]+c[0][2]+c[1][2]+c[3][2])))"
   ]
  },
  {
   "cell_type": "code",
   "execution_count": 9,
   "id": "bf44808a",
   "metadata": {},
   "outputs": [
    {
     "name": "stdout",
     "output_type": "stream",
     "text": [
      "0.000\n",
      "0.000\n",
      "0.000\n",
      "0.043\n",
      "0.050\n",
      "0.000\n",
      "0.074\n"
     ]
    }
   ],
   "source": [
    "c = confusion_matrix(y_test,RF.predict(X_test))\n",
    "print('{:.3f}'.format(c[3][3]/(c[3][3]+c[3][0]+c[3][1]+c[3][2]+c[0][3]+c[1][3]+c[2][3])))\n",
    "c = confusion_matrix(y_test,SVM.predict(X_test))\n",
    "print('{:.3f}'.format(c[3][3]/(c[3][3]+c[3][0]+c[3][1]+c[3][2]+c[0][3]+c[1][3]+c[2][3])))\n",
    "c = confusion_matrix(y_test,LDA.predict(X_test))\n",
    "print('{:.3f}'.format(c[3][3]/(c[3][3]+c[3][0]+c[3][1]+c[3][2]+c[0][3]+c[1][3]+c[2][3])))\n",
    "c = confusion_matrix(y_test,KNN.predict(X_test))\n",
    "print('{:.3f}'.format(c[3][3]/(c[3][3]+c[3][0]+c[3][1]+c[3][2]+c[0][3]+c[1][3]+c[2][3])))\n",
    "c = confusion_matrix(y_test,CART.predict(X_test))\n",
    "print('{:.3f}'.format(c[3][3]/(c[3][3]+c[3][0]+c[3][1]+c[3][2]+c[0][3]+c[1][3]+c[2][3])))\n",
    "c = confusion_matrix(y_test,GBDT.predict(X_test))\n",
    "print('{:.3f}'.format(c[3][3]/(c[3][3]+c[3][0]+c[3][1]+c[3][2]+c[0][3]+c[1][3]+c[2][3])))\n",
    "c = confusion_matrix(y_test,NB.predict(X_test))\n",
    "print('{:.3f}'.format(c[3][3]/(c[3][3]+c[3][0]+c[3][1]+c[3][2]+c[0][3]+c[1][3]+c[2][3])))"
   ]
  }
 ],
 "metadata": {
  "kernelspec": {
   "display_name": "Python 3",
   "language": "python",
   "name": "python3"
  },
  "language_info": {
   "codemirror_mode": {
    "name": "ipython",
    "version": 3
   },
   "file_extension": ".py",
   "mimetype": "text/x-python",
   "name": "python",
   "nbconvert_exporter": "python",
   "pygments_lexer": "ipython3",
   "version": "3.8.8"
  }
 },
 "nbformat": 4,
 "nbformat_minor": 5
}
