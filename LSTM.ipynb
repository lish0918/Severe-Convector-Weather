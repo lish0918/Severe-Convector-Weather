{
 "cells": [
  {
   "cell_type": "code",
   "execution_count": 1,
   "id": "aee18008",
   "metadata": {},
   "outputs": [],
   "source": [
    "import numpy as np\n",
    "import pandas\n",
    "import glob\n",
    "import os\n",
    "import tensorflow as tf\n",
    "from sklearn.model_selection import train_test_split\n",
    "from sklearn.utils import shuffle\n",
    "import matplotlib.pyplot as plt\n",
    "import seaborn as sns\n",
    "%matplotlib inline"
   ]
  },
  {
   "cell_type": "code",
   "execution_count": 2,
   "id": "9d06475d",
   "metadata": {},
   "outputs": [],
   "source": [
    "dataset=pandas.read_excel('Case.xlsx',sheet_name='initial')\n",
    "\n",
    "data =dataset.values\n",
    "X =data[:,1:18]\n",
    "y =data[:,19]\n",
    "\n",
    "validation_size = 0.2\n",
    "seed =0\n",
    "#划分训练集、测试集 7：3\n",
    "X_train, X_test, y_train,y_test = train_test_split(X, y, test_size=validation_size, random_state=seed)\n",
    "\n",
    "from imblearn.over_sampling import SMOTE, ADASYN\n",
    "X_train, y_train = SMOTE().fit_resample(X_train, y_train)"
   ]
  },
  {
   "cell_type": "code",
   "execution_count": 3,
   "id": "4e30e2b4",
   "metadata": {},
   "outputs": [],
   "source": [
    "# 数据归一化处理\n",
    "from sklearn.preprocessing import StandardScaler\n",
    "\n",
    "scaler = StandardScaler()\n",
    "scaler.fit(X_train)\n",
    "\n",
    "X_train = scaler.transform(X_train)\n",
    "X_test = scaler.transform(X_test)"
   ]
  },
  {
   "cell_type": "code",
   "execution_count": 4,
   "id": "2a532cc0",
   "metadata": {},
   "outputs": [
    {
     "name": "stdout",
     "output_type": "stream",
     "text": [
      "(3600, 17)\n",
      "(3600,)\n",
      "(488, 17)\n",
      "(488,)\n"
     ]
    }
   ],
   "source": [
    "print(X_train.shape)\n",
    "print(y_train.shape)\n",
    "print(X_test.shape)\n",
    "print(y_test.shape)"
   ]
  },
  {
   "cell_type": "code",
   "execution_count": 5,
   "id": "520adfbc",
   "metadata": {},
   "outputs": [],
   "source": [
    "# 对数据处理\n",
    "from keras.utils import np_utils\n",
    "\n",
    "X_train = X_train.reshape((X_train.shape[0],17,1)) #-1：行数未知\n",
    "#每时间步长的样本 时间步 特征\n",
    "Y_train = np_utils.to_categorical(y_train)\n",
    "X_test = X_test.reshape((X_test.shape[0],17,1))\n",
    "Y_test = np_utils.to_categorical(y_test)"
   ]
  },
  {
   "cell_type": "code",
   "execution_count": 6,
   "id": "7a8db6d6",
   "metadata": {},
   "outputs": [
    {
     "name": "stdout",
     "output_type": "stream",
     "text": [
      "(3600, 17, 1)\n",
      "(3600, 2)\n",
      "(488, 17, 1)\n",
      "(488, 2)\n"
     ]
    }
   ],
   "source": [
    "print(X_train.shape)\n",
    "print(Y_train.shape)\n",
    "print(X_test.shape)\n",
    "print(Y_test.shape)"
   ]
  },
  {
   "cell_type": "markdown",
   "id": "eb3570f1",
   "metadata": {},
   "source": [
    "### 模型"
   ]
  },
  {
   "cell_type": "code",
   "execution_count": 11,
   "id": "35f0b6a8",
   "metadata": {},
   "outputs": [],
   "source": [
    "from keras import Sequential\n",
    "from keras.layers import LSTM,Activation,Dense,Dropout,Input,Embedding,BatchNormalization,Add,concatenate,Flatten\n",
    "\n",
    "model = Sequential()\n",
    "\n",
    "model.add(LSTM(units=50,return_sequences=True,input_shape=(17,1)))\n",
    "#unit 隐藏层尺寸\n",
    "model.add(Dropout(0.2))\n",
    "\n",
    "model.add(LSTM(units=50,return_sequences=True))\n",
    "model.add(Dropout(0.2))\n",
    "\n",
    "model.add(LSTM(units=50,return_sequences=True))\n",
    "model.add(Dropout(0.2))\n",
    "\n",
    "# model.add(LSTM(units=50,return_sequences=True))\n",
    "# model.add(Dropout(0.2))\n",
    "\n",
    "model.add(LSTM(units=50))\n",
    "model.add(Dropout(0.2))\n",
    "\n",
    "# model.add(Dense(units=256))\n",
    "# model.add(Dropout(0.2))\n",
    "model.add(Dense(units=128))\n",
    "model.add(Dropout(0.2))\n",
    "model.add(Dense(units=64))\n",
    "model.add(Dropout(0.2))\n",
    "model.add(Dense(units=16))\n",
    "model.add(Dropout(0.2))\n",
    "\n",
    "model.add(Dense(units=1,activation=\"softmax\"))\n",
    "#units：设置该层节点数  activation：激活函数"
   ]
  },
  {
   "cell_type": "markdown",
   "id": "97fcd5a2",
   "metadata": {},
   "source": []
  },
  {
   "cell_type": "code",
   "execution_count": 12,
   "id": "ac1029b3",
   "metadata": {},
   "outputs": [],
   "source": [
    "# Implement Learning rate decay\n",
    "from keras.callbacks import EarlyStopping,ReduceLROnPlateau,ModelCheckpoint,LearningRateScheduler\n",
    "\n",
    "checkpoint = ModelCheckpoint(\"lstm.h5\", #filepath\n",
    "                             monitor=\"val_loss\", #被监测的数据\n",
    "                             mode=\"min\", #auto/max/min\n",
    "                             save_best_only = True, #被检测数据的最佳模型不被覆盖\n",
    "                             verbose=1) #0/1-输出进度条记录\n",
    "\n",
    "earlystop = EarlyStopping(monitor = 'val_loss', \n",
    "                          min_delta = 0,  #monitor的最小变化\n",
    "                          patience = 5, #经过patience个epoch后停止训练\n",
    "                          verbose = 1,  \n",
    "                          restore_best_weights = True)#最佳监控值的epoch训练结果作为最终模型权值\n",
    "\n",
    "reduce_lr = ReduceLROnPlateau(monitor = 'val_loss',\n",
    "                              factor = 0.2, #每次减少学习率的因子，学习率将以lr=lr*factor的形式减少\n",
    "                              patience = 3,\n",
    "                              verbose = 1)\n",
    "                              #min_delta = 0.00001)\n",
    "\n",
    "callbacks = [earlystop, checkpoint, reduce_lr]"
   ]
  },
  {
   "cell_type": "markdown",
   "id": "9cc44067",
   "metadata": {},
   "source": [
    "ModelCheckpoint: 在每个训练期之后保存模型\n",
    "\n",
    "EarlyStopping: 当监测值不再改善，该回调函数将中止训练\n",
    "\n",
    "ReduceLROnPlateau: 当评价指标不再提升时，减少学习率"
   ]
  },
  {
   "cell_type": "code",
   "execution_count": 13,
   "id": "cfda03d7",
   "metadata": {},
   "outputs": [],
   "source": [
    "model.compile(optimizer=\"adam\", loss='categorical_crossentropy', metrics=['Precision'])"
   ]
  },
  {
   "cell_type": "markdown",
   "id": "de0102b9",
   "metadata": {},
   "source": [
    "优化器=adam常见；loss损失函数=函数/函数代号\n",
    "\n",
    "性能评估=Precision, Recall, AUC"
   ]
  },
  {
   "cell_type": "code",
   "execution_count": 14,
   "id": "2e7f8866",
   "metadata": {},
   "outputs": [
    {
     "name": "stdout",
     "output_type": "stream",
     "text": [
      "Epoch 1/30\n",
      "450/450 [==============================] - ETA: 0s - loss: 0.0000e+00 - precision: 0.5000\n",
      "Epoch 1: val_loss improved from inf to 0.00000, saving model to lstm.h5\n",
      "450/450 [==============================] - 12s 16ms/step - loss: 0.0000e+00 - precision: 0.5000 - val_loss: 0.0000e+00 - val_precision: 0.0840 - lr: 0.0010\n",
      "Epoch 2/30\n",
      "449/450 [============================>.] - ETA: 0s - loss: 0.0000e+00 - precision: 0.5006\n",
      "Epoch 2: val_loss did not improve from 0.00000\n",
      "450/450 [==============================] - 5s 12ms/step - loss: 0.0000e+00 - precision: 0.5000 - val_loss: 0.0000e+00 - val_precision: 0.0840 - lr: 0.0010\n",
      "Epoch 3/30\n",
      "447/450 [============================>.] - ETA: 0s - loss: 0.0000e+00 - precision: 0.4997\n",
      "Epoch 3: val_loss did not improve from 0.00000\n",
      "450/450 [==============================] - 5s 12ms/step - loss: 0.0000e+00 - precision: 0.5000 - val_loss: 0.0000e+00 - val_precision: 0.0840 - lr: 0.0010\n",
      "Epoch 4/30\n",
      "446/450 [============================>.] - ETA: 0s - loss: 0.0000e+00 - precision: 0.4992\n",
      "Epoch 4: val_loss did not improve from 0.00000\n",
      "\n",
      "Epoch 4: ReduceLROnPlateau reducing learning rate to 0.00020000000949949026.\n",
      "450/450 [==============================] - 6s 13ms/step - loss: 0.0000e+00 - precision: 0.5000 - val_loss: 0.0000e+00 - val_precision: 0.0840 - lr: 0.0010\n",
      "Epoch 5/30\n",
      "446/450 [============================>.] - ETA: 0s - loss: 0.0000e+00 - precision: 0.5000\n",
      "Epoch 5: val_loss did not improve from 0.00000\n",
      "450/450 [==============================] - 6s 12ms/step - loss: 0.0000e+00 - precision: 0.5000 - val_loss: 0.0000e+00 - val_precision: 0.0840 - lr: 2.0000e-04\n",
      "Epoch 6/30\n",
      "448/450 [============================>.] - ETA: 0s - loss: 0.0000e+00 - precision: 0.5008Restoring model weights from the end of the best epoch: 1.\n",
      "\n",
      "Epoch 6: val_loss did not improve from 0.00000\n",
      "450/450 [==============================] - 6s 12ms/step - loss: 0.0000e+00 - precision: 0.5000 - val_loss: 0.0000e+00 - val_precision: 0.0840 - lr: 2.0000e-04\n",
      "Epoch 6: early stopping\n"
     ]
    }
   ],
   "source": [
    "history_fit = model.fit(x=X_train, \n",
    "                        y=y_train, \n",
    "                        batch_size=8, #一次训练所抓取的数据样本数量\n",
    "                        epochs=30, \n",
    "                        verbose=1, \n",
    "                        validation_data=(X_test, y_test),\n",
    "                        callbacks=callbacks)"
   ]
  },
  {
   "cell_type": "markdown",
   "id": "adaf5c80",
   "metadata": {},
   "source": [
    "batch_size 影响训练速度和模型优化，也影响每一epoch训练模型次数\n",
    "\n",
    "若BATCH_SIZE=m(训练集样本数量);相当于直接抓取整个数据集，训练时间长，但梯度准确。只适用于小样本训练，但小样本训练一般会导致过拟合现象，因此不建议如此设置。\n",
    "\n",
    "若BATCH_SIZE=1;梯度变化波动大，网络不容易收敛。"
   ]
  },
  {
   "cell_type": "code",
   "execution_count": 15,
   "id": "7a4644a0",
   "metadata": {},
   "outputs": [],
   "source": [
    "# 画曲线\n",
    "def plot_performance(history=None,figure_directory=None,ylim_pad=[0,0]):\n",
    "    xlabel=\"Epoch\"\n",
    "    legends=[\"Training\",\"Validation\"]\n",
    "    \n",
    "    plt.figure(figsize=(20,5))\n",
    "    \n",
    "    y1=history.history[\"precision\"]\n",
    "    y2=history.history[\"val_precision\"]\n",
    "    \n",
    "    min_y=min(min(y1),min(y2))-ylim_pad[0]\n",
    "    max_y=max(max(y1),max(y2))+ylim_pad[0]\n",
    "    \n",
    "    plt.subplot(121)\n",
    "    \n",
    "    plt.plot(y1)\n",
    "    plt.plot(y2)\n",
    "    \n",
    "    plt.title(\"Model Precision\\n\",fontsize=17)\n",
    "    plt.xlabel(xlabel,fontsize=15)\n",
    "    plt.ylabel(\"precision\",fontsize=15)\n",
    "    plt.ylim(min_y,max_y)\n",
    "    plt.legend(legends,loc=\"upper left\")\n",
    "    plt.grid()\n",
    "    \n",
    "    y1=history.history[\"loss\"]\n",
    "    y2=history.history[\"val_loss\"]\n",
    "    \n",
    "    min_y=min(min(y1),min(y2))-ylim_pad[1]\n",
    "    max_y=max(max(y1),max(y2))+ylim_pad[1]\n",
    "    \n",
    "    plt.subplot(122)\n",
    "    \n",
    "    plt.plot(y1)\n",
    "    plt.plot(y2)\n",
    "    \n",
    "    plt.title(\"Model Loss:\\n\",fontsize=17)\n",
    "    plt.xlabel(xlabel,fontsize=15)\n",
    "    plt.ylabel(\"Loss\",fontsize=15)\n",
    "    plt.ylim(min_y,max_y)\n",
    "    plt.legend(legends,loc=\"upper left\")\n",
    "    plt.grid()\n",
    "    plt.show()\n"
   ]
  },
  {
   "cell_type": "code",
   "execution_count": 16,
   "id": "4771061f",
   "metadata": {},
   "outputs": [
    {
     "name": "stderr",
     "output_type": "stream",
     "text": [
      "<ipython-input-15-9881dfec5047>:40: UserWarning: Attempting to set identical bottom == top == 0.0 results in singular transformations; automatically expanding.\n",
      "  plt.ylim(min_y,max_y)\n"
     ]
    },
    {
     "data": {
      "image/png": "[encoded data removed]",
      "text/plain": [
       "<Figure size 1440x360 with 2 Axes>"
      ]
     },
     "metadata": {
      "needs_background": "light"
     },
     "output_type": "display_data"
    }
   ],
   "source": [
    "# 可视化\n",
    "plot_performance(history=history_fit)"
   ]
  },
  {
   "cell_type": "code",
   "execution_count": 17,
   "id": "e6db2e73",
   "metadata": {},
   "outputs": [],
   "source": [
    "# 预测\n",
    "predict_y = model.predict(X_test)\n",
    "predict_y = np.argmax(predict_y,axis=1)"
   ]
  },
  {
   "cell_type": "code",
   "execution_count": 18,
   "id": "8ba57e6a",
   "metadata": {},
   "outputs": [
    {
     "name": "stdout",
     "output_type": "stream",
     "text": [
      "              precision    recall  f1-score   support\n",
      "\n",
      "         0.0       0.92      1.00      0.96       447\n",
      "         1.0       0.00      0.00      0.00        41\n",
      "\n",
      "    accuracy                           0.92       488\n",
      "   macro avg       0.46      0.50      0.48       488\n",
      "weighted avg       0.84      0.92      0.88       488\n",
      "\n"
     ]
    },
    {
     "name": "stderr",
     "output_type": "stream",
     "text": [
      "E:\\anaconda3\\lib\\site-packages\\sklearn\\metrics\\_classification.py:1318: UndefinedMetricWarning: Precision and F-score are ill-defined and being set to 0.0 in labels with no predicted samples. Use `zero_division` parameter to control this behavior.\n",
      "  _warn_prf(average, modifier, msg_start, len(result))\n",
      "E:\\anaconda3\\lib\\site-packages\\sklearn\\metrics\\_classification.py:1318: UndefinedMetricWarning: Precision and F-score are ill-defined and being set to 0.0 in labels with no predicted samples. Use `zero_division` parameter to control this behavior.\n",
      "  _warn_prf(average, modifier, msg_start, len(result))\n",
      "E:\\anaconda3\\lib\\site-packages\\sklearn\\metrics\\_classification.py:1318: UndefinedMetricWarning: Precision and F-score are ill-defined and being set to 0.0 in labels with no predicted samples. Use `zero_division` parameter to control this behavior.\n",
      "  _warn_prf(average, modifier, msg_start, len(result))\n"
     ]
    }
   ],
   "source": [
    "from sklearn.metrics import accuracy_score,f1_score,confusion_matrix,classification_report\n",
    "\n",
    "print(classification_report(y_test,predict_y))"
   ]
  },
  {
   "cell_type": "code",
   "execution_count": 19,
   "id": "01152d21",
   "metadata": {},
   "outputs": [
    {
     "name": "stdout",
     "output_type": "stream",
     "text": [
      "[[447   0]\n",
      " [ 41   0]]\n",
      "CSI: 0.000\n",
      "HSS: 0.000\n"
     ]
    }
   ],
   "source": [
    "from sklearn.metrics import accuracy_score,f1_score,confusion_matrix,classification_report\n",
    "\n",
    "cm = confusion_matrix(y_test,predict_y)\n",
    "TP=cm[1][1]\n",
    "TN=cm[0][0]\n",
    "FP=cm[0][1]\n",
    "FN=cm[1][0]\n",
    "\n",
    "print(cm)\n",
    "print(\"CSI: {:.3f}\".format(TP/(TP+FP+FN)))\n",
    "print('HSS: {:.3f}'.format((TP*TN-FN*FP)/((TP+FN)*(FN+TN)+(TP+FP)*(FP+TN))))"
   ]
  },
  {
   "cell_type": "code",
   "execution_count": null,
   "id": "e1181a33",
   "metadata": {},
   "outputs": [],
   "source": []
  }
 ],
 "metadata": {
  "kernelspec": {
   "display_name": "Python 3",
   "language": "python",
   "name": "python3"
  },
  "language_info": {
   "codemirror_mode": {
    "name": "ipython",
    "version": 3
   },
   "file_extension": ".py",
   "mimetype": "text/x-python",
   "name": "python",
   "nbconvert_exporter": "python",
   "pygments_lexer": "ipython3",
   "version": "3.8.8"
  }
 },
 "nbformat": 4,
 "nbformat_minor": 5
}
