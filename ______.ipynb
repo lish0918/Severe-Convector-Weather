{
 "cells": [
  {
   "cell_type": "code",
   "execution_count": 1,
   "id": "bd6f5479",
   "metadata": {},
   "outputs": [],
   "source": [
    "import pandas\n",
    "import numpy as np\n",
    "from pandas.plotting import scatter_matrix\n",
    "import matplotlib.pyplot as plt\n",
    "from sklearn import model_selection\n",
    "from sklearn.metrics import classification_report\n",
    "from sklearn.metrics import confusion_matrix\n",
    "from sklearn.metrics import accuracy_score\n",
    "from sklearn.model_selection import train_test_split\n",
    "import random\n",
    "\n",
    "from sklearn.discriminant_analysis import LinearDiscriminantAnalysis #线性判别分析#\n",
    "from sklearn.naive_bayes import GaussianNB #朴素贝叶斯分类器#\n",
    "from sklearn.svm import SVC #支持向量机#\n",
    "from sklearn.linear_model import LogisticRegression #逻辑回归#\n",
    "from sklearn.neighbors import KNeighborsClassifier #K临近#\n",
    "from sklearn.tree import DecisionTreeClassifier #决策树分类器CART#\n",
    "from sklearn.cluster import KMeans #kmeans聚类#\n",
    "from sklearn.ensemble import RandomForestClassifier #随机森林#\n",
    "from sklearn.ensemble import GradientBoostingClassifier #梯度提升决策树(GBDT)#"
   ]
  },
  {
   "cell_type": "code",
   "execution_count": 2,
   "id": "ea7caa60",
   "metadata": {},
   "outputs": [],
   "source": [
    "dataset=pandas.read_excel('Case.xlsx',sheet_name='initial')"
   ]
  },
  {
   "cell_type": "code",
   "execution_count": 33,
   "id": "5451d2e7",
   "metadata": {},
   "outputs": [],
   "source": [
    "data=dataset.values\n",
    "\n",
    "array=[]\n",
    "for i in data:\n",
    "    if i[0]==1:\n",
    "        array.append(list(i))\n",
    "    data=np.array(array)\n",
    "\n",
    "X =data[:,1:18]  #1:18 8:10\n",
    "Y =data[:,19]  #19 20\n",
    "seed=random.randint(0,1000)\n",
    "X_train,X_test,y_train,y_test = train_test_split(X, Y, test_size=0.2, random_state=seed)"
   ]
  },
  {
   "cell_type": "code",
   "execution_count": 11,
   "id": "8ecf0b6b",
   "metadata": {},
   "outputs": [
    {
     "name": "stdout",
     "output_type": "stream",
     "text": [
      "0.9128963893249609\n"
     ]
    }
   ],
   "source": [
    "from sklearn.model_selection import KFold\n",
    "\n",
    "cv = KFold(n_splits=10, random_state=0,shuffle=True)\n",
    "\n",
    "dt=RandomForestClassifier()\n",
    "scores = cross_val_score(dt, X_train, y_train, scoring='accuracy', cv=cv, n_jobs=-1)\n",
    "print(np.mean(scores))"
   ]
  },
  {
   "cell_type": "code",
   "execution_count": 12,
   "id": "dc84deda",
   "metadata": {},
   "outputs": [
    {
     "name": "stdout",
     "output_type": "stream",
     "text": [
      "0.9113867085295657\n"
     ]
    }
   ],
   "source": [
    "#不平衡类 分层K折\n",
    "from sklearn.model_selection import StratifiedKFold\n",
    "from sklearn.model_selection import cross_val_score\n",
    "\n",
    "scv = StratifiedKFold(n_splits=10, random_state=0,shuffle=True)\n",
    "\n",
    "scores = cross_val_score(dt, X_train, y_train, scoring='accuracy', cv=scv, n_jobs=-1)\n",
    "print(np.mean(scores))"
   ]
  },
  {
   "cell_type": "code",
   "execution_count": 13,
   "id": "89015125",
   "metadata": {},
   "outputs": [
    {
     "name": "stdout",
     "output_type": "stream",
     "text": [
      "0.9107692307692308\n"
     ]
    }
   ],
   "source": [
    "from sklearn.model_selection import TimeSeriesSplit\n",
    "\n",
    "tss = TimeSeriesSplit()\n",
    "\n",
    "scores = cross_val_score(dt, X_train, y_train, scoring='accuracy', cv=tss, n_jobs=-1)\n",
    "print(np.mean(scores))"
   ]
  },
  {
   "cell_type": "code",
   "execution_count": 34,
   "id": "8105106a",
   "metadata": {},
   "outputs": [
    {
     "data": {
      "text/plain": [
       "KMeans(n_clusters=3, random_state=0)"
      ]
     },
     "execution_count": 34,
     "metadata": {},
     "output_type": "execute_result"
    }
   ],
   "source": [
    "LR = LogisticRegression(max_iter=10000)\n",
    "RF=RandomForestClassifier()\n",
    "SVM=SVC()\n",
    "LDA=LinearDiscriminantAnalysis()\n",
    "KNN=KNeighborsClassifier()\n",
    "CART=DecisionTreeClassifier()\n",
    "GBDT=GradientBoostingClassifier(n_estimators=100,learning_rate=0.1,max_depth=1,random_state=0)\n",
    "NB=GaussianNB()\n",
    "kmeans=KMeans(n_clusters=3,random_state=0)\n",
    "\n",
    "LR.fit(X_train, y_train)\n",
    "RF.fit(X_train,y_train)\n",
    "SVM.fit(X_train,y_train)\n",
    "LDA.fit(X_train,y_train)\n",
    "KNN.fit(X_train,y_train)\n",
    "CART.fit(X_train,y_train)\n",
    "GBDT.fit(X_train,y_train)\n",
    "NB.fit(X_train,y_train)\n",
    "kmeans.fit(X_train,y_train)"
   ]
  },
  {
   "cell_type": "code",
   "execution_count": 35,
   "id": "0b08e3dd",
   "metadata": {},
   "outputs": [
    {
     "name": "stdout",
     "output_type": "stream",
     "text": [
      "0.978\n",
      "1.000\n",
      "0.152\n",
      "0.957\n",
      "0.391\n",
      "0.489\n",
      "0.935\n",
      "0.913\n"
     ]
    }
   ],
   "source": [
    "#AUC 越大越好\n",
    "from sklearn.metrics import roc_auc_score\n",
    "\n",
    "LR_auc = roc_auc_score(y_test, LR.predict_proba(X_test)[:,1])\n",
    "RF_auc = roc_auc_score(y_test, RF.predict_proba(X_test)[:,1])\n",
    "SVM_auc = roc_auc_score(y_test, SVM.decision_function(X_test))\n",
    "LDA_auc = roc_auc_score(y_test, LDA.predict_proba(X_test)[:,1])\n",
    "KNN_auc = roc_auc_score(y_test, KNN.predict_proba(X_test)[:,1])\n",
    "CART_auc = roc_auc_score(y_test, CART.predict_proba(X_test)[:,1])\n",
    "GBDT_auc = roc_auc_score(y_test, GBDT.predict_proba(X_test)[:,1])\n",
    "NB_auc = roc_auc_score(y_test, NB.predict_proba(X_test)[:,1])\n",
    "\n",
    "print(\"{:.3f}\".format(LR_auc))\n",
    "print(\"{:.3f}\".format(RF_auc))\n",
    "print(\"{:.3f}\".format(SVM_auc))\n",
    "print(\"{:.3f}\".format(LDA_auc))\n",
    "print(\"{:.3f}\".format(KNN_auc))\n",
    "print(\"{:.3f}\".format(CART_auc))\n",
    "print(\"{:.3f}\".format(GBDT_auc))\n",
    "print(\"{:.3f}\".format(NB_auc))"
   ]
  },
  {
   "cell_type": "code",
   "execution_count": 36,
   "id": "bb2aab4e",
   "metadata": {},
   "outputs": [],
   "source": [
    "#from sklearn.metrics import classification_report, confusion_matrix\n",
    "\n",
    "#cm = confusion_matrix(y_test,NB.predict(X_test))\n",
    "#print('Confusion matrix: \\n',cm)\n",
    "#print('Classification report: \\n',classification_report(y_test,LR.predict(X_test)))\n",
    "#print('{:.3f}'.format(cm[1][1]/(cm[1][1]+cm[0][1]+cm[1][0])))"
   ]
  },
  {
   "cell_type": "code",
   "execution_count": 16,
   "id": "ccf0fb37",
   "metadata": {
    "scrolled": true
   },
   "outputs": [
    {
     "name": "stdout",
     "output_type": "stream",
     "text": [
      "0.000\n",
      "0.000\n",
      "0.000\n",
      "0.000\n",
      "0.000\n",
      "0.000\n",
      "0.000\n",
      "0.020\n"
     ]
    }
   ],
   "source": [
    "cm = confusion_matrix(y_test,LR.predict(X_test))\n",
    "print('{:.3f}'.format(cm[1][1]/(cm[1][1]+cm[0][1]+cm[1][0])))\n",
    "cm = confusion_matrix(y_test,RF.predict(X_test))\n",
    "print('{:.3f}'.format(cm[1][1]/(cm[1][1]+cm[0][1]+cm[1][0])))\n",
    "cm = confusion_matrix(y_test,SVM.predict(X_test))\n",
    "print('{:.3f}'.format(cm[1][1]/(cm[1][1]+cm[0][1]+cm[1][0])))\n",
    "cm = confusion_matrix(y_test,LDA.predict(X_test))\n",
    "print('{:.3f}'.format(cm[1][1]/(cm[1][1]+cm[0][1]+cm[1][0])))\n",
    "cm = confusion_matrix(y_test,KNN.predict(X_test))\n",
    "print('{:.3f}'.format(cm[1][1]/(cm[1][1]+cm[0][1]+cm[1][0])))\n",
    "cm = confusion_matrix(y_test,CART.predict(X_test))\n",
    "print('{:.3f}'.format(cm[1][1]/(cm[1][1]+cm[0][1]+cm[1][0])))\n",
    "cm = confusion_matrix(y_test,GBDT.predict(X_test))\n",
    "print('{:.3f}'.format(cm[1][1]/(cm[1][1]+cm[0][1]+cm[1][0])))\n",
    "cm = confusion_matrix(y_test,NB.predict(X_test))\n",
    "print('{:.3f}'.format(cm[1][1]/(cm[1][1]+cm[0][1]+cm[1][0])))"
   ]
  },
  {
   "cell_type": "code",
   "execution_count": null,
   "id": "02e2f51a",
   "metadata": {},
   "outputs": [],
   "source": []
  }
 ],
 "metadata": {
  "kernelspec": {
   "display_name": "Python 3",
   "language": "python",
   "name": "python3"
  },
  "language_info": {
   "codemirror_mode": {
    "name": "ipython",
    "version": 3
   },
   "file_extension": ".py",
   "mimetype": "text/x-python",
   "name": "python",
   "nbconvert_exporter": "python",
   "pygments_lexer": "ipython3",
   "version": "3.8.8"
  }
 },
 "nbformat": 4,
 "nbformat_minor": 5
}
